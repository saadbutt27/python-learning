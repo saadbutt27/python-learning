{
 "cells": [
  {
   "cell_type": "markdown",
   "metadata": {},
   "source": [
    "# Functions"
   ]
  },
  {
   "cell_type": "code",
   "execution_count": 4,
   "metadata": {},
   "outputs": [
    {
     "name": "stdout",
     "output_type": "stream",
     "text": [
      "Hello world\n",
      "Hello world\n",
      "Hello world\n",
      "Hello world\n"
     ]
    }
   ],
   "source": [
    "def hello_world():\n",
    "    \"\"\" Display a string \"\"\"\n",
    "    print(\"Hello world\")\n",
    "\n",
    "hello_world()\n",
    "hello_world()\n",
    "hello_world()\n",
    "hello_world()"
   ]
  },
  {
   "cell_type": "code",
   "execution_count": 7,
   "metadata": {},
   "outputs": [
    {
     "name": "stdout",
     "output_type": "stream",
     "text": [
      "Hello Saad\n",
      "Hello Usman\n",
      "Hello Saud\n"
     ]
    }
   ],
   "source": [
    "def hello_person(name):\n",
    "    \"\"\"Display a string\"\"\"\n",
    "    print(f\"Hello {name.title()}\")\n",
    "\n",
    "hello_person(\"saad\")\n",
    "hello_person(\"usman\")\n",
    "hello_person(\"saud\")"
   ]
  },
  {
   "cell_type": "code",
   "execution_count": 18,
   "metadata": {},
   "outputs": [
    {
     "name": "stdout",
     "output_type": "stream",
     "text": [
      "Hello, what are you learning in this chapter?\n",
      "One of my favourite book is Jannat Ke Patty\n"
     ]
    }
   ],
   "source": [
    "def display_message():\n",
    "    print(\"Hello, what are you learning in this chapter?\")\n",
    "\n",
    "display_message()\n",
    "\n",
    "def favourite_book(title):\n",
    "    print(f\"One of my favourite book is {title.title()}\")\n",
    "\n",
    "favourite_book(\"jannat ke patty\")"
   ]
  },
  {
   "cell_type": "code",
   "execution_count": 17,
   "metadata": {},
   "outputs": [
    {
     "name": "stdout",
     "output_type": "stream",
     "text": [
      "Result: 2.042207120816673\n"
     ]
    }
   ],
   "source": [
    "import math\n",
    "\n",
    "def complex_calculation(n):\n",
    "    if n == 0:\n",
    "        return 1\n",
    "    elif n == 1:\n",
    "        return 1\n",
    "    else:\n",
    "        return complex_calculation(n-1) * math.factorial(n) / (math.sqrt(2 * math.pi * n) * (n / math.e)**n) + complex_calculation(n-2)\n",
    "\n",
    "# Example usage\n",
    "result = complex_calculation(2)\n",
    "print(\"Result:\", result)"
   ]
  },
  {
   "cell_type": "code",
   "execution_count": 25,
   "metadata": {},
   "outputs": [
    {
     "name": "stdout",
     "output_type": "stream",
     "text": [
      "Hello! My name is Saad.\n",
      "I am 21 years old.\n",
      "I am doin bachelors in Computer Science\n",
      "Hello! My name is Saad.\n",
      "I am 21 years old.\n",
      "I am doin bachelors in Computer Science\n"
     ]
    }
   ],
   "source": [
    "def student_info(name, age, education):\n",
    "    print(f\"Hello! My name is {name.title()}.\\nI am {age} years old.\\nI am doin bachelors in {education.title()}\")\n",
    "\n",
    "student_info(name=\"saad\", age=21, education=\"computer science\") # keyword arguments\n",
    "# keyword arguments are used to avoid confusion for what to pass in an argument\n",
    "# They are key-value pairs and the exact key name should be provided exactly as in function's parameters\n",
    "# position od arguments does not matter\n",
    "student_info(education=\"computer science\", name=\"saad\", age=21)"
   ]
  },
  {
   "cell_type": "code",
   "execution_count": 32,
   "metadata": {},
   "outputs": [
    {
     "name": "stdout",
     "output_type": "stream",
     "text": [
      "7\n"
     ]
    }
   ],
   "source": [
    "def calculate(c,a=2,b=2):\n",
    "    print(a*b+c)\n",
    "\n",
    "calculate(1,3)\n",
    "\n",
    "# for default value parameters, any parameter other than default value should be listed in start"
   ]
  },
  {
   "cell_type": "code",
   "execution_count": 41,
   "metadata": {},
   "outputs": [
    {
     "name": "stdout",
     "output_type": "stream",
     "text": [
      "This T-shrt has a message \"I love python\" and its size is large\n",
      "This T-shrt has a message \"I love python\" and its size is medium\n",
      "This T-shrt has a message \"Hello from the python world\" and its size is extra large\n",
      "Karachi is in Pakistan\n",
      "Peshawar is in Pakistan\n",
      "Tokyo is in Japan\n"
     ]
    }
   ],
   "source": [
    "def make_tshirts(size=\"large\", message=\"I love python\"):\n",
    "    print(f\"This T-shrt has a message \\\"{message}\\\" and its size is {size}\")\n",
    "\n",
    "# make_tshirts(\"large\", \"hello world\")\n",
    "# make_tshirts(size=\"large\", message=\"hello world\")\n",
    "# make_tshirts(message=\"hello world\", size=\"large\")\n",
    "\n",
    "make_tshirts()\n",
    "make_tshirts(\"medium\")\n",
    "make_tshirts(\"extra large\", \"Hello from the python world\")\n",
    "\n",
    "def describe_city(name, country=\"pakistan\"):\n",
    "    print(f\"{name.title()} is in {country.title()}\")\n",
    "\n",
    "describe_city(\"karachi\")\n",
    "describe_city(\"peshawar\")\n",
    "describe_city(\"tokyo\", \"japan\")"
   ]
  },
  {
   "cell_type": "code",
   "execution_count": 49,
   "metadata": {},
   "outputs": [
    {
     "name": "stdout",
     "output_type": "stream",
     "text": [
      "John Lee Hooker\n",
      "John Hooker\n"
     ]
    }
   ],
   "source": [
    "# making an argument optional and returning a result of a function\n",
    "def get_formatted_name(first_name, last_name, middle_name=\"\"):\n",
    "    \"\"\"Return a full name, neatly formatted.\"\"\"\n",
    "    if middle_name != \"\" : \n",
    "        full_name = f\"{first_name} {middle_name} {last_name}\"\n",
    "    else : \n",
    "        full_name = f\"{first_name} {last_name}\"\n",
    "    return full_name.title()\n",
    "\n",
    "print(get_formatted_name('john', 'hooker', 'lee'))\n",
    "print(get_formatted_name('john', 'hooker'))"
   ]
  },
  {
   "cell_type": "code",
   "execution_count": 52,
   "metadata": {},
   "outputs": [
    {
     "name": "stdout",
     "output_type": "stream",
     "text": [
      "first_name: saad\n",
      "last_name: butt\n",
      "age: 21\n",
      "education: bachelors\n"
     ]
    }
   ],
   "source": [
    "def make_dictionary(first_name, last_name, age, education):\n",
    "    person = {\n",
    "        \"first_name\" : first_name,\n",
    "        \"last_name\" : last_name,\n",
    "        \"age\" : age, \n",
    "        \"education\" : education\n",
    "    }\n",
    "\n",
    "    return person\n",
    "\n",
    "person_dict = make_dictionary(\"saad\", \"butt\", 21, \"bachelors\")\n",
    "for key, value in person_dict.items():\n",
    "    print(f\"{key}: {value}\")"
   ]
  },
  {
   "cell_type": "code",
   "execution_count": 56,
   "metadata": {},
   "outputs": [
    {
     "name": "stdout",
     "output_type": "stream",
     "text": [
      "Please tell me your name.\n",
      "Enter 'quit' anytime if you want to stop.\n",
      "Saad Butt\n",
      "Please tell me your name.\n",
      "Enter 'quit' anytime if you want to stop.\n",
      "Program has ended\n"
     ]
    }
   ],
   "source": [
    "while True:\n",
    "    print(\"Please tell me your name.\")\n",
    "    print(\"Enter 'quit' anytime if you want to stop.\")\n",
    "    first_name = input(\"Enter your first name: \")\n",
    "    if first_name == \"quit\":\n",
    "        break\n",
    "    last_name = input(\"Enter your last name: \")\n",
    "    if last_name == \"quit\":\n",
    "        break\n",
    "\n",
    "    full_name = get_formatted_name(first_name, last_name)\n",
    "    print(f\"{full_name.title()}\")\n",
    "\n",
    "print(\"Program has ended\")"
   ]
  },
  {
   "cell_type": "code",
   "execution_count": 57,
   "metadata": {},
   "outputs": [
    {
     "name": "stdout",
     "output_type": "stream",
     "text": [
      "Enter 'quit' anytime if you want to stop.\n",
      "Karachi, Pakistan\n",
      "Enter 'quit' anytime if you want to stop.\n",
      "Tokyo, Japan\n",
      "Enter 'quit' anytime if you want to stop.\n",
      "Dehli, India\n",
      "Enter 'quit' anytime if you want to stop.\n",
      "Program has ended\n"
     ]
    }
   ],
   "source": [
    "def city_country(city, country):\n",
    "    return f\"{city.title()}, {country.title()}\"\n",
    "\n",
    "while True:\n",
    "    print(\"Enter 'quit' anytime if you want to stop.\")\n",
    "    city = input(\"Enter city name: \")\n",
    "    if city == \"quit\":\n",
    "        break\n",
    "    country = input(\"Enter country name: \")\n",
    "    if country == \"quit\":\n",
    "        break\n",
    "\n",
    "    print(city_country(city, country))\n",
    "\n",
    "print(\"Program has ended\")"
   ]
  },
  {
   "cell_type": "code",
   "execution_count": 67,
   "metadata": {},
   "outputs": [
    {
     "name": "stdout",
     "output_type": "stream",
     "text": [
      "Please enter information about the artist.\n",
      "Enter 'quit' anytime if you want to stop .\n",
      "Artist_Name: Atif\n",
      "Album_Title: Sang E Mah\n",
      "Please enter information about the artist.\n",
      "Enter 'quit' anytime if you want to stop .\n",
      "Artist_Name: Saad\n",
      "Album_Title: Patani\n",
      "Please enter information about the artist.\n",
      "Enter 'quit' anytime if you want to stop .\n"
     ]
    }
   ],
   "source": [
    "def make_album(artist_name, album_title, total_songs=None):\n",
    "    album_dict = {\n",
    "        \"artist_name\": artist_name,\n",
    "        \"album_title\": album_title\n",
    "    }\n",
    "\n",
    "    if total_songs:\n",
    "        album_dict[\"total_songs\"] = total_songs\n",
    "\n",
    "    return album_dict\n",
    "\n",
    "\n",
    "# music_album1 = make_album(\"atif aslam\", \"sang e mah\")\n",
    "# music_album2 = make_album(\"farhan saeed\", \"hamsafar\")\n",
    "# music_album3 = make_album(\"ali zafar\", \"mohabbat\")\n",
    "\n",
    "# for key, value in music_album1.items():\n",
    "#     print(f\"{key.title()}: {value.title()}\")\n",
    "\n",
    "# for key, value in music_album2.items():\n",
    "#     print(f\"{key.title()}: {value.title()}\")\n",
    "\n",
    "# for key, value in music_album3.items():\n",
    "#     print(f\"{key.title()}: {value.title()}\")\n",
    "\n",
    "\n",
    "# music_album4 = make_album(\"shuja haider\", \"alif\", 10)\n",
    "\n",
    "# for key, value in music_album4.items():\n",
    "#     print(f\"{key.title()}: {value}\")\n",
    "\n",
    "while True:\n",
    "    print(\"Please enter information about the artist.\")\n",
    "    print(\"Enter 'quit' anytime if you want to stop .\")\n",
    "\n",
    "    artistName = input(\"Enter artist name: \")\n",
    "    if artistName == \"quit\":\n",
    "        break\n",
    "    albumName = input(\"Enter artist name: \")\n",
    "    if albumName == \"quit\":\n",
    "        break\n",
    "    \n",
    "    artistDict = make_album(artistName, albumName)\n",
    "\n",
    "    for key, value in artistDict.items():\n",
    "        print(f\"{key.title()}: {value.title()}\")"
   ]
  }
 ],
 "metadata": {
  "kernelspec": {
   "display_name": "base",
   "language": "python",
   "name": "python3"
  },
  "language_info": {
   "codemirror_mode": {
    "name": "ipython",
    "version": 3
   },
   "file_extension": ".py",
   "mimetype": "text/x-python",
   "name": "python",
   "nbconvert_exporter": "python",
   "pygments_lexer": "ipython3",
   "version": "3.11.4"
  }
 },
 "nbformat": 4,
 "nbformat_minor": 2
}
