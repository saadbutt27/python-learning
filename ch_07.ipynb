{
 "cells": [
  {
   "cell_type": "markdown",
   "metadata": {},
   "source": [
    "# User input and while loops"
   ]
  },
  {
   "cell_type": "code",
   "execution_count": 5,
   "metadata": {},
   "outputs": [
    {
     "name": "stdout",
     "output_type": "stream",
     "text": [
      "Hello Saad, Good to see you learning python!\n"
     ]
    }
   ],
   "source": [
    "# message = input(\"Tell me something, I'll repeat it back to you.\")\n",
    "# print(message)\n",
    "\n",
    "name = input(\"Hello user, what is your name?\\n\")\n",
    "print(f\"Hello {name.title()}, Good to see you learning python!\")"
   ]
  },
  {
   "cell_type": "code",
   "execution_count": 8,
   "metadata": {},
   "outputs": [
    {
     "name": "stdout",
     "output_type": "stream",
     "text": [
      "pYTHON\n"
     ]
    }
   ],
   "source": [
    "prompt = \"Hello, this is Saad Nisar Butt. Can you tell me about yourself? \"\n",
    "prompt += \"Tell me, what are you learning?\\n\"\n",
    "\n",
    "answer = input(prompt)\n",
    "print(answer)"
   ]
  },
  {
   "cell_type": "code",
   "execution_count": 10,
   "metadata": {},
   "outputs": [
    {
     "name": "stdout",
     "output_type": "stream",
     "text": [
      "21 <class 'str'>\n",
      "21 <class 'int'>\n"
     ]
    }
   ],
   "source": [
    "# By default, python interprets everthing the user write as a string\n",
    "age = input(\"Write your age: \")\n",
    "print(age, type(age))\n",
    "\n",
    "age = int(age) # here, we are typecasting the returned value from the user input\n",
    "\n",
    "print(age, type(age))"
   ]
  },
  {
   "cell_type": "code",
   "execution_count": 12,
   "metadata": {},
   "outputs": [
    {
     "name": "stdout",
     "output_type": "stream",
     "text": [
      "122 is an even number\n"
     ]
    }
   ],
   "source": [
    "# Even and odd checker\n",
    "\n",
    "prompt = input(\"Write a number to check whether it is an even or an odd number: \")\n",
    "number = int(prompt)\n",
    "\n",
    "if number % 2 == 0:\n",
    "    print(f\"{number} is an even number.\")\n",
    "else :\n",
    "    print(f\"{number} is an odd number.\")\n"
   ]
  },
  {
   "cell_type": "code",
   "execution_count": 14,
   "metadata": {},
   "outputs": [
    {
     "name": "stdout",
     "output_type": "stream",
     "text": [
      "Lets find you a Fortuner\n"
     ]
    }
   ],
   "source": [
    "\n",
    "carName = input(\"What kind of car, you would like to rent?\\n Write its name here: \")\n",
    "\n",
    "print (f\"Lets find you a {carName.title()}\")"
   ]
  },
  {
   "cell_type": "code",
   "execution_count": 16,
   "metadata": {},
   "outputs": [
    {
     "name": "stdout",
     "output_type": "stream",
     "text": [
      "SOrry but you have to wait for the table.\n"
     ]
    }
   ],
   "source": [
    "prompt = input(\"Write the number of people in your dinner group please: \")\n",
    "numberOfPeople = int(prompt)\n",
    "\n",
    "if numberOfPeople > 8:\n",
    "    print(\"Sorry but you have to wait for the table.\")\n",
    "else:\n",
    "    print(\"Your table is ready.\")"
   ]
  },
  {
   "cell_type": "code",
   "execution_count": 21,
   "metadata": {},
   "outputs": [
    {
     "name": "stdout",
     "output_type": "stream",
     "text": [
      "800 is a multiple of 10\n"
     ]
    }
   ],
   "source": [
    "number = int(input(\"Write a number: \"))\n",
    "\n",
    "if number % 10 == 0:\n",
    "    print(f\"{number} is a multiple of 10\")\n",
    "else :\n",
    "    print(f\"{number} is not a multiple of 10\")"
   ]
  },
  {
   "cell_type": "markdown",
   "metadata": {},
   "source": [
    "# While loops"
   ]
  },
  {
   "cell_type": "code",
   "execution_count": 25,
   "metadata": {},
   "outputs": [
    {
     "name": "stdout",
     "output_type": "stream",
     "text": [
      "0\n",
      "1\n",
      "2\n",
      "3\n",
      "4\n"
     ]
    }
   ],
   "source": [
    "current = 0\n",
    "\n",
    "while current < 5:\n",
    "    print(current)\n",
    "    current += 1"
   ]
  },
  {
   "cell_type": "code",
   "execution_count": 29,
   "metadata": {},
   "outputs": [
    {
     "name": "stdout",
     "output_type": "stream",
     "text": [
      "Hwllo\n",
      "Heelo python\n",
      "Progrem Ended.\n"
     ]
    }
   ],
   "source": [
    "prompt = \"Write quit if you want to end the program otherwise write a message and I'll ask again\"\n",
    "active = True\n",
    "while active:\n",
    "    message = input(prompt)\n",
    "    if message != \"quit\":\n",
    "        print(message)\n",
    "    else:\n",
    "        active = False # using flag\n",
    "\n",
    "print(\"Progrem Ended.\")"
   ]
  },
  {
   "cell_type": "code",
   "execution_count": 30,
   "metadata": {},
   "outputs": [
    {
     "name": "stdout",
     "output_type": "stream",
     "text": [
      "Hello\n",
      "Progrem Ended.\n"
     ]
    }
   ],
   "source": [
    "prompt = \"Write quit if you want to end the program otherwise write a message and I'll ask again\"\n",
    "\n",
    "while True:\n",
    "    message = input(prompt)\n",
    "    if message != \"quit\":\n",
    "        print(message)\n",
    "    else:\n",
    "        break # using break statement to immediately come out of the loop\n",
    "\n",
    "print(\"Progrem Ended.\")"
   ]
  },
  {
   "cell_type": "code",
   "execution_count": 36,
   "metadata": {},
   "outputs": [
    {
     "name": "stdout",
     "output_type": "stream",
     "text": [
      "1\n",
      "3\n",
      "5\n",
      "7\n",
      "9\n"
     ]
    }
   ],
   "source": [
    "current = 0\n",
    "\n",
    "while current < 10:\n",
    "    current += 1\n",
    "    if current % 2 == 0:\n",
    "        continue\n",
    "    \n",
    "    print(current)"
   ]
  },
  {
   "cell_type": "code",
   "execution_count": 42,
   "metadata": {},
   "outputs": [
    {
     "name": "stdout",
     "output_type": "stream",
     "text": [
      "Your topping pata nhi\n",
      "Your topping pata nhi\n",
      "We will add these toppings!\n"
     ]
    }
   ],
   "source": [
    "prompt = \"Write your favourite pizza toppings and when you are finished write 'quit'.\"\n",
    "\n",
    "while True:\n",
    "    topping = input(prompt)\n",
    "    if topping == \"quit\":\n",
    "        break\n",
    "    print(f\"Your topping {topping}\")\n",
    "\n",
    "print(\"We will add these toppings!\")\n",
    "    "
   ]
  },
  {
   "cell_type": "code",
   "execution_count": 48,
   "metadata": {},
   "outputs": [
    {
     "name": "stdout",
     "output_type": "stream",
     "text": [
      "Ticket is $10\n",
      "Program ended.\n"
     ]
    }
   ],
   "source": [
    "prompt = \"Please enter your age: \"\n",
    "\n",
    "while True:\n",
    "    message = input(prompt)\n",
    "    if message == \"quit\":\n",
    "        break\n",
    "    age = int(message)\n",
    "    \n",
    "    if age < 3:\n",
    "        print(\"Ticket is free\")\n",
    "    elif age >= 3 and age <= 12:\n",
    "        print(\"Ticket is $10\")\n",
    "    elif age > 12:\n",
    "        print(\"Ticket is $15\")\n",
    "    else:\n",
    "        print(\"Invalid input\")\n",
    "\n",
    "print(\"Program ended.\")\n",
    "    "
   ]
  },
  {
   "cell_type": "code",
   "execution_count": 49,
   "metadata": {},
   "outputs": [
    {
     "name": "stdout",
     "output_type": "stream",
     "text": [
      "Todo done: work on website\n",
      "Todo done: learn python\n",
      "Todo done: practice for next.js quiz\n",
      "['work on website', 'learn python', 'practice for next.js quiz']\n"
     ]
    }
   ],
   "source": [
    "todos = [\"practice for next.js quiz\", \"learn python\", \"work on website\"]\n",
    "done = []\n",
    "while todos:\n",
    "    currentTodo = todos.pop()\n",
    "    print(f\"Todo done: {currentTodo}\")\n",
    "    done.append(currentTodo)\n",
    "\n",
    "print(done)"
   ]
  },
  {
   "cell_type": "code",
   "execution_count": 52,
   "metadata": {},
   "outputs": [
    {
     "name": "stdout",
     "output_type": "stream",
     "text": [
      "[1, 2, 5, 1, 2, 5, 5, 5, 2, 4]\n",
      "[1, 2, 1, 2, 2, 4]\n"
     ]
    }
   ],
   "source": [
    "myList = [1,2,5,1,2,5,5,5,2,4]\n",
    "print(myList)\n",
    "\n",
    "while 5 in myList:\n",
    "    myList.remove(5)\n",
    "\n",
    "print(myList)"
   ]
  },
  {
   "cell_type": "code",
   "execution_count": 56,
   "metadata": {},
   "outputs": [
    {
     "name": "stdout",
     "output_type": "stream",
     "text": [
      "I made your Melt Sandwich\n",
      "I made your Egg Mayo\n",
      "I made your Chicken\n",
      "I made your Roast Beef\n",
      "I made your Stake & Cheese\n",
      "Melt Sandwich\n",
      "Egg Mayo\n",
      "Chicken\n",
      "Roast Beef\n",
      "Stake & Cheese\n"
     ]
    }
   ],
   "source": [
    "sandwich_orders = ['stake & cheese', 'roast beef', 'chicken', 'egg mayo', 'melt sandwich']\n",
    "finished_sandwiches = []\n",
    "\n",
    "while sandwich_orders:\n",
    "    finished_sandwich = sandwich_orders.pop()\n",
    "    print(f\"I made your {finished_sandwich.title()}\")\n",
    "    finished_sandwiches.append(finished_sandwich)\n",
    "\n",
    "for sandwich in finished_sandwiches:\n",
    "    print(sandwich.title())\n"
   ]
  },
  {
   "cell_type": "code",
   "execution_count": 58,
   "metadata": {},
   "outputs": [
    {
     "name": "stdout",
     "output_type": "stream",
     "text": [
      "Deli has run out of pastrami\n",
      "I made your Melt Sandwich\n",
      "I made your Egg Mayo\n",
      "I made your Chicken\n",
      "I made your Roast Beef\n",
      "I made your Stake & Cheese\n",
      "Melt Sandwich\n",
      "Egg Mayo\n",
      "Chicken\n",
      "Roast Beef\n",
      "Stake & Cheese\n"
     ]
    }
   ],
   "source": [
    "sandwich_orders = ['stake & cheese', 'pastrami', 'roast beef', 'pastrami', 'chicken', 'egg mayo', 'melt sandwich', 'pastrami',]\n",
    "finished_sandwiches = []\n",
    "\n",
    "print(\"Deli has run out of pastrami\")\n",
    "while 'pastrami' in sandwich_orders:\n",
    "    sandwich_orders.remove('pastrami')\n",
    "\n",
    "while sandwich_orders:\n",
    "    finished_sandwich = sandwich_orders.pop()\n",
    "    print(f\"I made your {finished_sandwich.title()}\")\n",
    "    finished_sandwiches.append(finished_sandwich)\n",
    "\n",
    "for sandwich in finished_sandwiches:\n",
    "    print(sandwich.title())\n"
   ]
  },
  {
   "cell_type": "code",
   "execution_count": 60,
   "metadata": {},
   "outputs": [
    {
     "name": "stdout",
     "output_type": "stream",
     "text": [
      "Usman's dream place is Japan\n",
      "Saad's dream place is Turkey\n"
     ]
    }
   ],
   "source": [
    "prompt = \"If you could visit one place in the world, where would you go?\"\n",
    "\n",
    "responses = {}\n",
    "\n",
    "while True:\n",
    "    name = input(\"What is your name?\")\n",
    "    response = input(prompt)\n",
    "\n",
    "    responses[name] = response\n",
    "\n",
    "    repeatResponse = input(\"Would anyone else like to add their response? Answer yes or no\")\n",
    "    if repeatResponse.lower() == \"no\":\n",
    "        break\n",
    "\n",
    "for name, dreamPlace in responses.items():\n",
    "    print(f\"{name.title()}'s dream place is {dreamPlace.title()}.\")"
   ]
  }
 ],
 "metadata": {
  "kernelspec": {
   "display_name": "base",
   "language": "python",
   "name": "python3"
  },
  "language_info": {
   "codemirror_mode": {
    "name": "ipython",
    "version": 3
   },
   "file_extension": ".py",
   "mimetype": "text/x-python",
   "name": "python",
   "nbconvert_exporter": "python",
   "pygments_lexer": "ipython3",
   "version": "3.11.4"
  }
 },
 "nbformat": 4,
 "nbformat_minor": 2
}
