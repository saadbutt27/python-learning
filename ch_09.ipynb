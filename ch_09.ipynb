{
 "cells": [
  {
   "cell_type": "markdown",
   "metadata": {},
   "source": [
    "# Classes"
   ]
  },
  {
   "cell_type": "code",
   "execution_count": 8,
   "metadata": {},
   "outputs": [
    {
     "name": "stdout",
     "output_type": "stream",
     "text": [
      "saad 21\n",
      "Saad is reading\n"
     ]
    }
   ],
   "source": [
    "class Person:\n",
    "    \"\"\"A simple attempt to model a Perosn\"\"\"\n",
    "\n",
    "    def __init__(self, name, age): # whenever a new istance is made, python runs this method automatically\n",
    "        \"\"\"Initialize name and age  attribute\"\"\"\n",
    "        self.name = name\n",
    "        self.age = age\n",
    "        self.hands = 2 # default value\n",
    "        # self is an attribute for the instance itself\n",
    "        # self attribute should be defined before anyother parameters\n",
    "        # whenever an instance of a class is created and we pass the arguments, and self is passed automatically.\n",
    "\n",
    "    def read(self):\n",
    "        \"\"\"Simulate a person reading in response to a command\"\"\"\n",
    "        print(f\"{self.name.title()} is reading\")\n",
    "\n",
    "    def run(self):\n",
    "        \"\"\"Simulate a person running in response to a command\"\"\"\n",
    "        print(f\"{self.name.title()} is running\")\n",
    "    \n",
    "person1 = Person(\"saad\", 21)\n",
    "print(person1.name, person1.age)\n",
    "person1.read()"
   ]
  },
  {
   "cell_type": "code",
   "execution_count": 77,
   "metadata": {},
   "outputs": [
    {
     "name": "stdout",
     "output_type": "stream",
     "text": [
      "Restaurant Name: Great Eats\n",
      "Cuisine Type: Italian\n",
      "Restaurant name: Great Eats\n",
      "Cuisine Type: Italian\n",
      "Great Eats is open!\n",
      "Restaurant name: Bella Italia\n",
      "Cuisine Type: Italian\n",
      "Restaurant name: Zen Fusion\n",
      "Cuisine Type: Asian Fusion\n",
      "Restaurant name: Tacos & Tequila\n",
      "Cuisine Type: Mexican\n"
     ]
    }
   ],
   "source": [
    "# class Restaurant:\n",
    "#     \"\"\"Making a restaurant class\"\"\"\n",
    "\n",
    "#     def __init__(self, restaurant_name, cuisine_type):\n",
    "#         self.restaurant_name = restaurant_name\n",
    "#         self.cuisine_type = cuisine_type\n",
    "#         self.number_served = 0\n",
    "\n",
    "#     def describe_restaurant(self):\n",
    "#         print(f\"Restaurant name: {self.restaurant_name.title()}\\nCuisine Type: {self.cuisine_type.title()}\")\n",
    "\n",
    "#     def open_restaurant(self):\n",
    "#         print(f\"{self.restaurant_name.title()} is open!\")\n",
    "\n",
    "#     def set_number_served(self, start):\n",
    "#         if (start >= 0):\n",
    "#             self.number_served = start\n",
    "\n",
    "#     def increment_number_served(self, increment):\n",
    "#         if (self.number_served + increment >= 0):\n",
    "#             self.number_served += increment\n",
    "\n",
    "from restaurant import Restaurant\n",
    "\n",
    "restaurant = Restaurant(\"Great Eats\", \"Italian\")\n",
    "\n",
    "# Printing individual attributes\n",
    "print(\"Restaurant Name:\", restaurant.restaurant_name)\n",
    "print(\"Cuisine Type:\", restaurant.cuisine_type)\n",
    "restaurant.describe_restaurant()\n",
    "restaurant.open_restaurant()\n",
    "\n",
    "restaurant1 = Restaurant(\"Bella Italia\", \"Italian\")\n",
    "restaurant2 = Restaurant(\"zen fusion\", \"asian fusion\")\n",
    "restaurant3 = Restaurant(\"tacos & tequila\", \"mexican\")\n",
    "\n",
    "restaurant1.describe_restaurant()\n",
    "restaurant2.describe_restaurant()\n",
    "restaurant3.describe_restaurant()"
   ]
  },
  {
   "cell_type": "code",
   "execution_count": 75,
   "metadata": {},
   "outputs": [
    {
     "name": "stdout",
     "output_type": "stream",
     "text": [
      "----User Profile----\n",
      "Name: Mark Peterson\n",
      "Date of Birth: 12-10-2000\n",
      "Bio: Software Engineer\n",
      "No. of followers: 0\n",
      "\n",
      "Hello, Mark\n",
      "\n",
      "----User Profile----\n",
      "Name: Andrew Parker\n",
      "Date of Birth: 10-05-2001\n",
      "Bio: Actor\n",
      "No. of followers: 0\n",
      "\n",
      "Hello, Andrew\n",
      "\n",
      "----User Profile----\n",
      "Name: Thomas Graham\n",
      "Date of Birth: 08-01-2003\n",
      "Bio: Business Tycoon\n",
      "No. of followers: 0\n",
      "\n",
      "Hello, Thomas\n",
      "\n"
     ]
    }
   ],
   "source": [
    "# class User:\n",
    "#     \"\"\"\"Modeling a User\"\"\"\n",
    "    \n",
    "#     def __init__(self, firstName, lastName, dob, bio):\n",
    "#         self.firstName = firstName\n",
    "#         self.lastName = lastName\n",
    "#         self.dob = dob\n",
    "#         self.bio = bio\n",
    "#         self.followers = 0 # default value\n",
    "#         self.login_attempts = 0\n",
    "\n",
    "#     def describe_user(self):\n",
    "#         print(f\"----User Profile----\\nName: {self.firstName.title()} {self.lastName.title()}\\nDate of Birth: {self.dob}\\nBio: {self.bio.title()}\\nNo. of followers: {self.followers}\\n\")\n",
    "\n",
    "#     def greet_user(self):\n",
    "#         print(f\"Hello, {self.firstName.title()}\\n\")\n",
    "\n",
    "#     def update_followers(self, increment):\n",
    "#         \"\"\"\"An updater function which will update nimber of followers\"\"\"\n",
    "#         if(self.followers + increment >=0):\n",
    "#             self.followers += increment \n",
    "\n",
    "#     def increment_login_attempts(self):\n",
    "#         \"\"\"\"Increment login attempts\"\"\"\n",
    "#         self.login_attempts += 1\n",
    "\n",
    "#     def reset_login_attempts(self):\n",
    "#         self.login_attempts = 0\n",
    "from user import User as U\n",
    "\n",
    "user1 = U(\"mark\", \"peterson\", \"12-10-2000\", \"software engineer\")\n",
    "user2 = U(\"andrew\", \"parker\", \"10-05-2001\", \"actor\")\n",
    "user3 = U(\"thomas\", \"graham\", \"08-01-2003\", \"business tycoon\")\n",
    "\n",
    "user1.describe_user()\n",
    "user1.greet_user()\n",
    "user2.describe_user()\n",
    "user2.greet_user()\n",
    "user3.describe_user()\n",
    "user3.greet_user()"
   ]
  },
  {
   "cell_type": "code",
   "execution_count": 76,
   "metadata": {},
   "outputs": [
    {
     "name": "stdout",
     "output_type": "stream",
     "text": [
      "----User Profile----\n",
      "Name: Saad Butt\n",
      "Date of Birth: 27-07-2002\n",
      "Bio: Web Developer\n",
      "No. of followers: 0\n",
      "\n",
      "----User Profile----\n",
      "Name: Saad Butt\n",
      "Date of Birth: 27-07-2002\n",
      "Bio: Web Developer\n",
      "No. of followers: 5\n",
      "\n",
      "----User Profile----\n",
      "Name: Saad Butt\n",
      "Date of Birth: 27-07-2002\n",
      "Bio: Web Developer\n",
      "No. of followers: 2\n",
      "\n",
      "----User Profile----\n",
      "Name: Saad Butt\n",
      "Date of Birth: 27-07-2002\n",
      "Bio: Web Developer\n",
      "No. of followers: 2\n",
      "\n"
     ]
    }
   ],
   "source": [
    "user4 = U(\"saad\", \"butt\", \"27-07-2002\", \"web developer\")\n",
    "user4.describe_user()\n",
    "\n",
    "user4.update_followers(5)\n",
    "user4.describe_user()\n",
    "\n",
    "user4.update_followers(-3)\n",
    "user4.describe_user() \n",
    "\n",
    "user4.update_followers(-3)\n",
    "user4.describe_user()"
   ]
  },
  {
   "cell_type": "code",
   "execution_count": 46,
   "metadata": {},
   "outputs": [
    {
     "name": "stdout",
     "output_type": "stream",
     "text": [
      "Restaurant name: Pranzo\n",
      "Cuisine Type: Pakistani\n",
      "5\n",
      "7\n",
      "7\n"
     ]
    }
   ],
   "source": [
    "restaurant4 = Restaurant(\"Pranzo\", \"Pakistani\")\n",
    "restaurant4.describe_restaurant()\n",
    "\n",
    "restaurant4.set_number_served(5)\n",
    "\n",
    "print(restaurant4.number_served)\n",
    "restaurant4.increment_number_served(2)\n",
    "print(restaurant4.number_served)\n",
    "\n",
    "restaurant4.increment_number_served(-25)\n",
    "print(restaurant4.number_served)"
   ]
  },
  {
   "cell_type": "code",
   "execution_count": 50,
   "metadata": {},
   "outputs": [
    {
     "name": "stdout",
     "output_type": "stream",
     "text": [
      "----User Profile----\n",
      "Name: Absullah Butt\n",
      "Date of Birth: 01-08-2023\n",
      "Bio: Sab Ki Jaan\n",
      "No. of followers: 0\n",
      "\n",
      "0\n",
      "1\n",
      "4\n",
      "0\n"
     ]
    }
   ],
   "source": [
    "user4 = U(\"absullah\", \"butt\", \"01-08-2023\", \"sab ki jaan\")\n",
    "user4.describe_user()\n",
    "\n",
    "print(user4.login_attempts)\n",
    "user4.increment_login_attempts()\n",
    "print(user4.login_attempts)\n",
    "user4.increment_login_attempts()\n",
    "user4.increment_login_attempts()\n",
    "user4.increment_login_attempts()\n",
    "print(user4.login_attempts)\n",
    "user4.reset_login_attempts()\n",
    "print(user4.login_attempts)\n"
   ]
  },
  {
   "cell_type": "markdown",
   "metadata": {},
   "source": [
    "# Inheritance"
   ]
  },
  {
   "cell_type": "code",
   "execution_count": 65,
   "metadata": {},
   "outputs": [
    {
     "name": "stdout",
     "output_type": "stream",
     "text": [
      "2020 Toyota Corolla\n",
      "The car's gas tank is full.\n",
      "\n",
      "2024 Nissan Leaf\n",
      "This car has charging time of 4 hours\n",
      "This car does not have a gas tank.\n",
      "The car has a 40-kWh battery.\n"
     ]
    }
   ],
   "source": [
    "# A parent class must be a part of current file and must be appear before child class\n",
    "# To inherit a class, the name of the parent class must be included in parantheses in the definition of child class\n",
    "# The super function allows to call a method from a parent class\n",
    "# super().__init__() will call __init__ method of parent class and pass the attribute to make a child class instance\n",
    "# and give it all the attributes of defined in that method \n",
    "class Car: # Parent Class\n",
    "    \"\"\"\"A model for a car\"\"\"\n",
    "\n",
    "    def __init__(self, make, model, year):\n",
    "        self.make = make\n",
    "        self.model = model\n",
    "        self.year = year\n",
    "\n",
    "    def get_descriptive_name(self):\n",
    "        \"\"\"Return a neatly formatted descriptive name.\"\"\"\n",
    "        long_name = f\"{self.year} {self.make} {self.model}\"\n",
    "        return long_name.title()\n",
    "\n",
    "    def fill_gas_tank(self):\n",
    "        print(\"The car's gas tank is full.\")\n",
    "    \n",
    "class ElectricCar(Car): # Child Class\n",
    "    \"\"\"Represent aspects of a car, specific to electric vehicles.\"\"\"\n",
    "\n",
    "    def __init__(self, make, model, year, charing_time):\n",
    "        \"\"\"\"Initaializing attributes of parent class\"\"\"\n",
    "        super().__init__(make, model, year)\n",
    "        \"\"\"\"Initializing attributes of child class\"\"\"\n",
    "        # self.battery_size = 40\n",
    "        self.battery = Battery() # composition\n",
    "        self.charing_time = charing_time\n",
    "    \n",
    "    # def describe_battery(self):\n",
    "    #     print(F\"The car has a {self.battery_size}-kWh battery.\")\n",
    "\n",
    "    def describe_charging(self):\n",
    "        print(f\"This car has charging time of {self.charing_time} hours\")\n",
    "    \n",
    "    def fill_gas_tank(self):\n",
    "        \"\"\"\"Overriding a method\"\"\"\n",
    "        print(\"This car does not have a gas tank.\")\n",
    "\n",
    "class Battery:\n",
    "    \"\"\"Battery instance fro every electric car instance\"\"\"\n",
    "\n",
    "    def __init__(self):\n",
    "        self.battery_size = 40\n",
    "\n",
    "    def describe_battery(self):\n",
    "        print(F\"The car has a {self.battery_size}-kWh battery.\")\n",
    "\n",
    "\n",
    "parent1 = Car(\"toyota\", \"corolla\", 2020)\n",
    "print(parent1.get_descriptive_name())\n",
    "parent1.fill_gas_tank()\n",
    "\n",
    "print()\n",
    "\n",
    "child1 = ElectricCar(\"nissan\", \"leaf\", 2024, 4)\n",
    "print(child1.get_descriptive_name())\n",
    "# child1.describe_battery()\n",
    "child1.describe_charging()\n",
    "child1.fill_gas_tank()\n",
    "child1.battery.describe_battery() \n",
    "\n",
    "# we have made an electric class instance by inheriting some attributes from parent class car\n",
    "# we called the methods for electric car instance from car class\n",
    "# we override the method of parent class and used it according to electric class\n",
    "# we composed anothe class battery from electric class and assigned the class to bettery attribute in\n",
    "# electric car class. in this way Batter class is like a type\n",
    "\n"
   ]
  },
  {
   "cell_type": "code",
   "execution_count": 68,
   "metadata": {},
   "outputs": [
    {
     "name": "stdout",
     "output_type": "stream",
     "text": [
      "Restaurant name: Alaska\n",
      "Cuisine Type: Pakistan\n",
      "Icecream Flavors\n",
      "- Chocolate\n",
      "- Vanilla\n",
      "- Strawberry\n"
     ]
    }
   ],
   "source": [
    "class IceCreamStand(Restaurant):\n",
    "    \"\"\"Icecream stand class model which inherits Restaurant model\"\"\"\n",
    "\n",
    "    def __init__(self, restaurant_name, cuisine_type, flavors):\n",
    "        \"\"\"Initailizing attributes of Restaurant class\"\"\"\n",
    "        super().__init__(restaurant_name, cuisine_type)\n",
    "        self.flavors = flavors\n",
    "\n",
    "    def describe_flavors(self):\n",
    "        print(\"Icecream Flavors\")\n",
    "        for flavor in self.flavors:\n",
    "            print(f\"- {flavor.title()}\") \n",
    "\n",
    "iceCreamStand1 = IceCreamStand(\"Alaska\", \"Pakistan\", [\"Chocolate\", \"vaNilla\", \"strawberrY\"])\n",
    "iceCreamStand1.describe_restaurant()\n",
    "iceCreamStand1.describe_flavors()"
   ]
  },
  {
   "cell_type": "code",
   "execution_count": 71,
   "metadata": {},
   "outputs": [
    {
     "name": "stdout",
     "output_type": "stream",
     "text": [
      "----User Profile----\n",
      "Name: Amir Saeed\n",
      "Date of Birth: 12-10-2000\n",
      "Bio: Badshah\n",
      "No. of followers: 0\n",
      "\n",
      "Admin's Priviliges\n",
      "* can adde post\n",
      "* can delete post\n",
      "* can see users\n"
     ]
    }
   ],
   "source": [
    "# class Admin(U):\n",
    "#     \"\"\"Admin is a special type of a model of User's model\"\"\"\n",
    "\n",
    "#     def __init__(self, firstName, lastName, dob, bio, priviliges):\n",
    "#         super().__init__(firstName, lastName, dob, bio)\n",
    "        # self.priviliges = priviliges\n",
    "\n",
    "    # def show_priviliges(self):\n",
    "    #     print(\"Admin's Priviliges\")\n",
    "    #     for privilige in self.priviliges:\n",
    "    #         print(f\"* {privilige}\")\n",
    "\n",
    "# admin = Admin(\"Amir\",\"Saeed\", \"12-10-2000\", \"Badshah\", [\"can adde post\", \"can delete post\", \"can see users\"])\n",
    "# admin.describe_user()\n",
    "# admin.show_priviliges()\n",
    "\n"
   ]
  },
  {
   "cell_type": "code",
   "execution_count": 88,
   "metadata": {},
   "outputs": [
    {
     "name": "stdout",
     "output_type": "stream",
     "text": [
      "----User Profile----\n",
      "Name: Ali Bhatti\n",
      "Date of Birth: 10-10-2002\n",
      "Bio: Architect\n",
      "No. of followers: 0\n",
      "\n"
     ]
    }
   ],
   "source": [
    "# class Privilige:\n",
    "#     \"\"\"Composed Privilige class\"\"\"\n",
    "\n",
    "#     def __init__(self, priviliges):\n",
    "#         self.priviliges = priviliges\n",
    "\n",
    "#     def show_priviliges(self):\n",
    "#         print(\"Admin's Priviliges\")\n",
    "#         for privilige in self.priviliges:\n",
    "#             print(f\"* {privilige}\")\n",
    "\n",
    "# class Admin(User):\n",
    "#     \"\"\"Admin is a special type of a model of User's model\"\"\"\n",
    "\n",
    "#     def __init__(self, firstName, lastName, dob, bio, priviliges):\n",
    "#         super().__init__(firstName, lastName, dob, bio)\n",
    "#         self.priviliges = Privilige(priviliges)\n",
    "from user import User\n",
    "u = User(\"ali\", \"bhatti\", \"10-10-2002\", \"architect\")\n",
    "u.describe_user()\n",
    "\n",
    "# admin = Admin(\"Amir\",\"Saeed\", \"12-10-2000\", \"Badshah\", [\"can adde post\", \"can delete post\", \"can see users\"])\n",
    "# admin.describe_user()\n",
    "# admin.priviliges.show_priviliges()"
   ]
  },
  {
   "cell_type": "code",
   "execution_count": 74,
   "metadata": {},
   "outputs": [
    {
     "name": "stdout",
     "output_type": "stream",
     "text": [
      "2024 Nissan Leaf\n",
      "This car has charging time of 4 hours\n",
      "This car does not have a gas tank.\n",
      "The car has a 40-kWh battery.\n",
      "This car can go about 150 miles on a full charge.\n",
      "This car can go about 225 miles on a full charge.\n"
     ]
    }
   ],
   "source": [
    "class Car: # Parent Class\n",
    "    \"\"\"\"A model for a car\"\"\"\n",
    "\n",
    "    def __init__(self, make, model, year):\n",
    "        self.make = make\n",
    "        self.model = model\n",
    "        self.year = year\n",
    "\n",
    "    def get_descriptive_name(self):\n",
    "        \"\"\"Return a neatly formatted descriptive name.\"\"\"\n",
    "        long_name = f\"{self.year} {self.make} {self.model}\"\n",
    "        return long_name.title()\n",
    "\n",
    "    def fill_gas_tank(self):\n",
    "        print(\"The car's gas tank is full.\")\n",
    "\n",
    "class Battery:\n",
    "    \"\"\"Battery instance fro every electric car instance\"\"\"\n",
    "\n",
    "    def __init__(self):\n",
    "        self.battery_size = 40\n",
    "\n",
    "    def describe_battery(self):\n",
    "        print(F\"The car has a {self.battery_size}-kWh battery.\")\n",
    "\n",
    "    def get_range(self):\n",
    "        \"\"\"Print a statement about the range this battery provides.\"\"\"\n",
    "        if self.battery_size == 40:\n",
    "            range = 150\n",
    "        elif self.battery_size == 65:\n",
    "            range = 225\n",
    "        print(f\"This car can go about {range} miles on a full charge.\")\n",
    "\n",
    "    def upgrade_battery(self):\n",
    "        if self.battery_size != 65:\n",
    "            self.battery_size = 65\n",
    "    \n",
    "class ElectricCar(Car): # Child Class\n",
    "    \"\"\"Represent aspects of a car, specific to electric vehicles.\"\"\"\n",
    "\n",
    "    def __init__(self, make, model, year, charing_time):\n",
    "        \"\"\"\"Initaializing attributes of parent class\"\"\"\n",
    "        super().__init__(make, model, year)\n",
    "        \"\"\"\"Initializing attributes of child class\"\"\"\n",
    "        self.battery = Battery()\n",
    "        self.charing_time = charing_time\n",
    "\n",
    "    def describe_charging(self):\n",
    "        print(f\"This car has charging time of {self.charing_time} hours\")\n",
    "    \n",
    "    def fill_gas_tank(self):\n",
    "        \"\"\"\"Overriding a method\"\"\"\n",
    "        print(\"This car does not have a gas tank.\")\n",
    "\n",
    "child1 = ElectricCar(\"nissan\", \"leaf\", 2024, 4)\n",
    "print(child1.get_descriptive_name())\n",
    "child1.describe_charging()\n",
    "child1.fill_gas_tank()\n",
    "child1.battery.describe_battery() \n",
    "child1.battery.get_range()\n",
    "child1.battery.upgrade_battery()\n",
    "child1.battery.get_range()\n"
   ]
  },
  {
   "cell_type": "markdown",
   "metadata": {},
   "source": [
    "# Python Standard Library"
   ]
  },
  {
   "cell_type": "code",
   "execution_count": 99,
   "metadata": {},
   "outputs": [
    {
     "name": "stdout",
     "output_type": "stream",
     "text": [
      "7\n"
     ]
    }
   ],
   "source": [
    "from random import randint\n",
    "\n",
    "print(randint(1,8)) # generates a random integer between 1 and 8"
   ]
  },
  {
   "cell_type": "code",
   "execution_count": 104,
   "metadata": {},
   "outputs": [
    {
     "name": "stdout",
     "output_type": "stream",
     "text": [
      "martina\n"
     ]
    }
   ],
   "source": [
    "from random import choice\n",
    "\n",
    "players = ['charles', 'martina', 'michael', 'florence', 'eli']\n",
    "first = choice(players) # This function takes a list/tuple and and returns a randomly chosen element.\n",
    "print(first)"
   ]
  },
  {
   "cell_type": "code",
   "execution_count": 112,
   "metadata": {},
   "outputs": [
    {
     "name": "stdout",
     "output_type": "stream",
     "text": [
      "17\n",
      "16\n",
      "2\n",
      "20\n",
      "2\n",
      "18\n",
      "12\n",
      "5\n",
      "20\n",
      "15\n"
     ]
    }
   ],
   "source": [
    "from random import randint\n",
    "class Die:\n",
    "    def __init__(self, sides=6):\n",
    "        self.sides = sides\n",
    "\n",
    "    def roll_die(self):\n",
    "        print(randint(1, self.sides))\n",
    "\n",
    "# sixSided = Die()\n",
    "# for i in range(10):\n",
    "#     sixSided.roll_die()\n",
    "\n",
    "# tenSided = Die(10)\n",
    "# for i in range(10):\n",
    "#     tenSided.roll_die()\n",
    "\n",
    "twentySided = Die(20)\n",
    "for i in range(10):\n",
    "    twentySided.roll_die()"
   ]
  },
  {
   "cell_type": "code",
   "execution_count": 115,
   "metadata": {},
   "outputs": [
    {
     "name": "stdout",
     "output_type": "stream",
     "text": [
      "An ticket with these 4 numbers or letters wins a prize\n",
      "1\n",
      "s\n",
      "5\n",
      "11\n"
     ]
    }
   ],
   "source": [
    "from random import choice\n",
    "randomList = (1,5,9,10,25,2,9,8,11,1, \"a\",\"f\", \"s\", \"t\", \"l\")\n",
    "\n",
    "print(f\"An ticket with these 4 numbers or letters wins a prize\")\n",
    "for i in range(4):\n",
    "    print(choice(randomList))"
   ]
  },
  {
   "cell_type": "code",
   "execution_count": 118,
   "metadata": {},
   "outputs": [
    {
     "name": "stdout",
     "output_type": "stream",
     "text": [
      "0.11512841918417138 0.9931845612958221 0.9795462129678478 0.33569807308688904 0.4618364131533568 \n"
     ]
    }
   ],
   "source": [
    "import random\n",
    "\n",
    "for i in range(5):\n",
    "    # print('%04.3f' % random.random(), end=' ')\n",
    "    print(random.random(), end=\" \")\n",
    "print()"
   ]
  }
 ],
 "metadata": {
  "kernelspec": {
   "display_name": "base",
   "language": "python",
   "name": "python3"
  },
  "language_info": {
   "codemirror_mode": {
    "name": "ipython",
    "version": 3
   },
   "file_extension": ".py",
   "mimetype": "text/x-python",
   "name": "python",
   "nbconvert_exporter": "python",
   "pygments_lexer": "ipython3",
   "version": "3.11.4"
  }
 },
 "nbformat": 4,
 "nbformat_minor": 2
}
