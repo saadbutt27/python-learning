{
 "cells": [
  {
   "cell_type": "code",
   "execution_count": 104,
   "metadata": {},
   "outputs": [
    {
     "name": "stdout",
     "output_type": "stream",
     "text": [
      "Hello Python World!\n"
     ]
    }
   ],
   "source": [
    "print(\"Hello Python World!\")"
   ]
  },
  {
   "cell_type": "markdown",
   "metadata": {},
   "source": [
    "# Chapter 2"
   ]
  },
  {
   "cell_type": "code",
   "execution_count": 105,
   "metadata": {},
   "outputs": [
    {
     "name": "stdout",
     "output_type": "stream",
     "text": [
      "Saad Nisar Butt <class 'str'> 2827256211952\n",
      "5 <class 'int'> 140711967626152\n"
     ]
    }
   ],
   "source": [
    "name = \"Saad Nisar Butt\"\n",
    "print(name, type(name), id(name))\n",
    "name = 5\n",
    "print(name, type(name), id(name))"
   ]
  },
  {
   "cell_type": "code",
   "execution_count": 106,
   "metadata": {},
   "outputs": [
    {
     "name": "stdout",
     "output_type": "stream",
     "text": [
      "7 <class 'int'> 140711967626216\n",
      "saad <class 'str'> 2827256294768\n",
      "False <class 'bool'> 140711966157376\n",
      "[1, 'saad', 8] <class 'list'> 2827256155328\n"
     ]
    }
   ],
   "source": [
    "num1: int = 7\n",
    "print(num1, type(num1), id(num1))\n",
    "\n",
    "num1:str = \"saad\"\n",
    "print(num1, type(num1), id(num1))\n",
    "\n",
    "num1:bool = False\n",
    "print(num1, type(num1), id(num1))\n",
    "\n",
    "from typing import List\n",
    "\n",
    "num1:List[str] = [1,'saad',8]\n",
    "print(num1, type(num1), id(num1))"
   ]
  },
  {
   "cell_type": "code",
   "execution_count": 107,
   "metadata": {},
   "outputs": [
    {
     "name": "stdout",
     "output_type": "stream",
     "text": [
      "{1, 2, 3, 4} <class 'set'> 2827242914528\n"
     ]
    }
   ],
   "source": [
    "from typing import List\n",
    "\n",
    "num1:set[str] = {1,2,3,3,2,2,4}\n",
    "print(num1, type(num1), id(num1))"
   ]
  },
  {
   "cell_type": "code",
   "execution_count": 108,
   "metadata": {},
   "outputs": [
    {
     "name": "stdout",
     "output_type": "stream",
     "text": [
      "(1, 2, 3, 3, 2, 2, 4) <class 'tuple'> 2827242596832\n",
      "(1, 2, 2) <class 'tuple'> 2827236724224\n"
     ]
    }
   ],
   "source": [
    "from typing import List\n",
    "\n",
    "num1:tuple[str] = (1,2,3,3,2,2,4)\n",
    "print(num1, type(num1), id(num1))\n",
    "\n",
    "x: tuple[str, float, int] = (1,2,2)\n",
    "print(x, type(x), id(x))"
   ]
  },
  {
   "cell_type": "code",
   "execution_count": 109,
   "metadata": {},
   "outputs": [
    {
     "name": "stdout",
     "output_type": "stream",
     "text": [
      "{'name': 'Saad Butt', 'age': 30} <class 'dict'> 2827256297152\n"
     ]
    }
   ],
   "source": [
    "from typing import Dict\n",
    "\n",
    "num1:Dict[str,str] = {\n",
    "    \"name\":\"Saad Butt\",\n",
    "    \"age\": 30,\n",
    "    \n",
    "}\n",
    "print(num1, type(num1), id(num1))"
   ]
  },
  {
   "cell_type": "markdown",
   "metadata": {},
   "source": [
    "# String"
   ]
  },
  {
   "cell_type": "code",
   "execution_count": 110,
   "metadata": {},
   "outputs": [
    {
     "name": "stdout",
     "output_type": "stream",
     "text": [
      "<class 'str'> Pakistan\n"
     ]
    }
   ],
   "source": [
    "a = 'Pakistan'\n",
    "print(type(a), a)"
   ]
  },
  {
   "cell_type": "code",
   "execution_count": 111,
   "metadata": {},
   "outputs": [
    {
     "name": "stdout",
     "output_type": "stream",
     "text": [
      "<class 'str'> Pakistan Hello Worldnjaskcj\n"
     ]
    }
   ],
   "source": [
    "a: str = 'Pakistan '\\\n",
    "\"Hello World\"+\"njaskcj\"\n",
    "print(type(a), a)"
   ]
  },
  {
   "cell_type": "code",
   "execution_count": 112,
   "metadata": {},
   "outputs": [
    {
     "name": "stdout",
     "output_type": "stream",
     "text": [
      "<class 'str'> Pakistan\n",
      "Hello World Pakistan\n",
      "Hello World\n"
     ]
    }
   ],
   "source": [
    "a: str = \"\"\"Pakistan\n",
    "Hello World\"\"\"\n",
    "print(type(a), a, a.title())"
   ]
  },
  {
   "cell_type": "code",
   "execution_count": 113,
   "metadata": {},
   "outputs": [
    {
     "data": {
      "text/plain": [
       "'Hello! I am \"Saad Butt\"'"
      ]
     },
     "execution_count": 113,
     "metadata": {},
     "output_type": "execute_result"
    }
   ],
   "source": [
    "\"Hello! I am \\\"Saad Butt\\\"\""
   ]
  },
  {
   "cell_type": "code",
   "execution_count": 114,
   "metadata": {},
   "outputs": [
    {
     "name": "stdout",
     "output_type": "stream",
     "text": [
      "Pakistan\n"
     ]
    }
   ],
   "source": [
    "a:str = \"PaKIsTaN\"\n",
    "print(a.title())"
   ]
  },
  {
   "cell_type": "code",
   "execution_count": 115,
   "metadata": {},
   "outputs": [
    {
     "name": "stdout",
     "output_type": "stream",
     "text": [
      "Name: Saad Age: 21\n",
      " \n",
      "PIAIC Student Card\n",
      "Name: Saad\n",
      "Age: 21\n",
      "Education: BS Computer Science\n",
      "\n",
      "\n",
      "PIAIC Student Card\n",
      "Name: Saad\n",
      "Age: 21\n",
      "Education: BS Computer Science\n",
      "\n",
      "\n",
      "PIAIC Student Card\n",
      "Name: Saad\n",
      "Age: 21\n",
      "Education: BS Computer Science\n",
      "\n"
     ]
    }
   ],
   "source": [
    "age:int = 21\n",
    "name:str = \"Saad\"\n",
    "eductaion:str = \"BS Computer Science\"\n",
    "\n",
    "std_card:str = \"Name: \" + name + \" Age: \" + str(age)\n",
    "print(std_card)\n",
    "\n",
    "\n",
    "std_card:str = f\"\"\" \n",
    "PIAIC Student Card\n",
    "Name: {name}\n",
    "Age: {age}\n",
    "Education: {eductaion}\n",
    "\"\"\" # f stream to concatenate different type of variables\n",
    "print(std_card)\n",
    "\n",
    "std_card:str = \"\"\"\n",
    "PIAIC Student Card\n",
    "Name: {}\n",
    "Age: {}\n",
    "Education: {}\n",
    "\"\"\".format(name,age,eductaion) # position of variables matter, it is old way\n",
    "print(std_card)\n",
    "\n",
    "std_card:str = \"\"\"\n",
    "PIAIC Student Card\n",
    "Name: {a}\n",
    "Age: {b}\n",
    "Education: {c}\n",
    "\"\"\".format(b=age, a=name, c=eductaion) # position of variable doesn't ,matter, just assign them in a key and use the key\n",
    "print(std_card)"
   ]
  },
  {
   "cell_type": "code",
   "execution_count": 116,
   "metadata": {},
   "outputs": [
    {
     "data": {
      "text/plain": [
       "'Pakistan 20 Hello world! Saad'"
      ]
     },
     "execution_count": 116,
     "metadata": {},
     "output_type": "execute_result"
    }
   ],
   "source": [
    "\"Pakistan %d Hello world! %s\" % (20, \"Saad\") # C-language type way"
   ]
  },
  {
   "cell_type": "code",
   "execution_count": 117,
   "metadata": {},
   "outputs": [
    {
     "data": {
      "text/plain": [
       "'Saad\\nButt\\tHello'"
      ]
     },
     "execution_count": 117,
     "metadata": {},
     "output_type": "execute_result"
    }
   ],
   "source": [
    "\"Saad\\nButt\\tHello\""
   ]
  },
  {
   "cell_type": "code",
   "execution_count": 118,
   "metadata": {},
   "outputs": [
    {
     "data": {
      "text/plain": [
       "'Saad    Butt  '"
      ]
     },
     "execution_count": 118,
     "metadata": {},
     "output_type": "execute_result"
    }
   ],
   "source": [
    "name:str = \"                   Saad    Butt  \"\n",
    "# print(name)\n",
    "# name\n",
    "\n",
    "# name.lstrip()\n",
    "# name.rstrip()\n",
    "# name.strip()\n",
    "\n",
    "name.removeprefix(\"                   \")"
   ]
  },
  {
   "cell_type": "markdown",
   "metadata": {},
   "source": [
    "# List"
   ]
  },
  {
   "cell_type": "code",
   "execution_count": 119,
   "metadata": {},
   "outputs": [
    {
     "name": "stdout",
     "output_type": "stream",
     "text": [
      "['trek', 'cannondale', 'redline', 'specialized']\n",
      "trek\n",
      "Redline\n",
      "redline\n",
      "My first bicycle was a Trek.\n"
     ]
    }
   ],
   "source": [
    "# import this\n",
    "bicycles = ['trek', 'cannondale', 'redline', 'specialized']\n",
    "print(bicycles)\n",
    "print(bicycles[0])\n",
    "print(bicycles[2].title())\n",
    "print(bicycles[-2])\n",
    "\n",
    "message = f\"My first bicycle was a {bicycles[0].capitalize()}.\"\n",
    "print(message)"
   ]
  },
  {
   "cell_type": "code",
   "execution_count": 120,
   "metadata": {},
   "outputs": [
    {
     "name": "stdout",
     "output_type": "stream",
     "text": [
      "Usman\n",
      "Saud\n",
      "Owais\n",
      "Rahim\n",
      "Anas\n",
      "hello Usman, Good to see you!\n",
      "hello Saud, Good to see you!\n",
      "hello Owais, Good to see you!\n",
      "hello Rahim, Good to see you!\n",
      "hello Anas, Good to see you!\n"
     ]
    }
   ],
   "source": [
    "names = [\"Usman\", \"Saud\", \"Owais\", \"Rahim\", \"Anas\"]\n",
    "print(names[0])\n",
    "print(names[1])\n",
    "print(names[2])\n",
    "print(names[3])\n",
    "print(names[-1])\n",
    "\n",
    "print(f\"hello {names[0].title()}, Good to see you!\")\n",
    "print(f\"hello {names[1].title()}, Good to see you!\")\n",
    "print(f\"hello {names[2].title()}, Good to see you!\")\n",
    "print(f\"hello {names[3].title()}, Good to see you!\")\n",
    "print(f\"hello {names[-1].title()}, Good to see you!\")"
   ]
  },
  {
   "cell_type": "code",
   "execution_count": 136,
   "metadata": {},
   "outputs": [
    {
     "name": "stdout",
     "output_type": "stream",
     "text": [
      "['honda', 'yamaha', 'suzuki']\n",
      "['honda', 'yamaha', 'suzuki', 'ducati']\n",
      "['honda', 'unique', 'yamaha', 'suzuki', 'ducati']\n",
      "['honda', 'yamaha', 'suzuki', 'ducati']\n",
      "ducati\n",
      "['honda', 'yamaha', 'suzuki']\n",
      "suzuki\n",
      "['honda', 'yamaha']\n",
      "['yamaha']\n"
     ]
    }
   ],
   "source": [
    "motorcycles = ['honda', 'yamaha', 'suzuki']\n",
    "print(motorcycles)\n",
    "# motorcycles[-1] = 'ducati' # replacing the value of any element in the list\n",
    "# print(motorcycles)\n",
    "motorcycles.append(\"ducati\") # insert an element at the end of the list\n",
    "print(motorcycles) \n",
    "motorcycles.insert(1, \"unique\") # insert an element at a specific position in a list\n",
    "print(motorcycles) \n",
    "del motorcycles[1] # removing an element at a specific position from a list\n",
    "print(motorcycles) \n",
    "print(motorcycles.pop()) # removing/popping elements from the end of a list. popped element is usable after deletion from the list \n",
    "print(motorcycles) \n",
    "print(motorcycles.pop(2)) # removing/popping elements from the specific position of a list. popped element is usable after deletion from the list \n",
    "print(motorcycles) \n",
    "motorcycles.remove('honda') # removing a specific element from the list. find the element by matching value given in the parameters\n",
    "print(motorcycles) \n",
    "# remove method deletes only the first occurence of an element, if more than one element wioth the same value is in the list then make sure to use a loop to delete all of them."
   ]
  },
  {
   "cell_type": "code",
   "execution_count": 148,
   "metadata": {},
   "outputs": [
    {
     "name": "stdout",
     "output_type": "stream",
     "text": [
      "Hello Usman, I invite you to have dinner with me.\n",
      "Hello Saud, I invite you to have dinner with me.\n",
      "Hello Rahim, I invite you to have dinner with me.\n",
      "Hello Usman, I invite you to have dinner with me.\n",
      "Hello Saud, I invite you to have dinner with me.\n",
      "Hello Ali, I invite you to have dinner with me.\n",
      "Rahim cannot come.\n",
      "Hello Jihan, I invite you to have dinner with me.\n",
      "Hello Ahmed, I invite you to have dinner with me.\n",
      "Hello Usman, I invite you to have dinner with me.\n",
      "Hello Saud, I invite you to have dinner with me.\n",
      "Hello Ali, I invite you to have dinner with me.\n",
      "Hello Faizan, I invite you to have dinner with me.\n",
      "Hey folks, I found a bigger table for dinner.\n",
      "Sorry, but I can invite only two people for dinner.\n",
      "Sorry Faizan, I can't invite you to dinner.\n",
      "Sorry Ali, I can't invite you to dinner.\n",
      "Sorry Saud, I can't invite you to dinner.\n",
      "Sorry Usman, I can't invite you to dinner.\n",
      "Hello Jihan, I invite you to have dinner with me. I have a place for you.\n",
      "Hello Ahmed, I invite you to have dinner with me. I have a place for you.\n",
      "['ahmed']\n",
      "[]\n"
     ]
    }
   ],
   "source": [
    "guest_list = [\"usman\", \"saud\", \"rahim\"]\n",
    "print(f\"Hello {guest_list[0].title()}, I invite you to have dinner with me.\")\n",
    "print(f\"Hello {guest_list[1].title()}, I invite you to have dinner with me.\")\n",
    "print(f\"Hello {guest_list[2].title()}, I invite you to have dinner with me.\")\n",
    "\n",
    "not_coming_guest = 'Rahim'\n",
    "guest_list[-1] = \"ali\"\n",
    "print(f\"Hello {guest_list[0].title()}, I invite you to have dinner with me.\")\n",
    "print(f\"Hello {guest_list[1].title()}, I invite you to have dinner with me.\")\n",
    "print(f\"Hello {guest_list[2].title()}, I invite you to have dinner with me.\")\n",
    "print(f\"{not_coming_guest.title()} cannot come.\")\n",
    "\n",
    "guest_list.insert(0, \"jihan\")\n",
    "guest_list.insert(1, \"ahmed\")\n",
    "guest_list.append(\"faizan\")\n",
    "print(f\"Hello {guest_list[0].title()}, I invite you to have dinner with me.\")\n",
    "print(f\"Hello {guest_list[1].title()}, I invite you to have dinner with me.\")\n",
    "print(f\"Hello {guest_list[2].title()}, I invite you to have dinner with me.\")\n",
    "print(f\"Hello {guest_list[3].title()}, I invite you to have dinner with me.\")\n",
    "print(f\"Hello {guest_list[4].title()}, I invite you to have dinner with me.\")\n",
    "print(f\"Hello {guest_list[5].title()}, I invite you to have dinner with me.\")\n",
    "print(\"Hey folks, I found a bigger table for dinner.\")\n",
    "\n",
    "print(\"Sorry, but I can invite only two people for dinner.\")\n",
    "print(f\"Sorry {guest_list.pop().title()}, I can't invite you to dinner.\")\n",
    "print(f\"Sorry {guest_list.pop().title()}, I can't invite you to dinner.\")\n",
    "print(f\"Sorry {guest_list.pop().title()}, I can't invite you to dinner.\")\n",
    "print(f\"Sorry {guest_list.pop().title()}, I can't invite you to dinner.\")\n",
    "print(f\"Hello {guest_list[0].title()}, I invite you to have dinner with me. I have a place for you.\")\n",
    "print(f\"Hello {guest_list[1].title()}, I invite you to have dinner with me. I have a place for you.\")\n",
    "del guest_list[0]\n",
    "print(guest_list)\n",
    "del guest_list[0]\n",
    "print(guest_list)\n"
   ]
  },
  {
   "cell_type": "code",
   "execution_count": 160,
   "metadata": {},
   "outputs": [
    {
     "name": "stdout",
     "output_type": "stream",
     "text": [
      "['bmw', 'audi', 'toyota', 'subaru']\n",
      "None\n",
      "['audi', 'bmw', 'subaru', 'toyota']\n",
      "['toyota', 'subaru', 'bmw', 'audi']\n"
     ]
    }
   ],
   "source": [
    "cars = ['bmw', 'audi', 'toyota', 'subaru']\n",
    "print(cars)\n",
    "print(cars.sort()) # sort the list in ascending order and the list is changed permanently\n",
    "print(cars)\n",
    "cars.sort(reverse=True) # sort the list in descending order and the list is changed permanently\n",
    "print(cars)\n"
   ]
  },
  {
   "cell_type": "code",
   "execution_count": 159,
   "metadata": {},
   "outputs": [
    {
     "name": "stdout",
     "output_type": "stream",
     "text": [
      "['audi', 'bmw', 'subaru', 'toyota']\n",
      "['toyota', 'subaru', 'bmw', 'audi']\n",
      "['bmw', 'audi', 'toyota', 'subaru']\n"
     ]
    }
   ],
   "source": [
    "cars = ['bmw', 'audi', 'toyota', 'subaru']\n",
    "\n",
    "print(sorted(cars)) # sort the list in ascending order but temporarily\n",
    "print(sorted(cars, reverse=True)) # sort the list in descending order but temporarily\n",
    "print(cars)"
   ]
  },
  {
   "cell_type": "code",
   "execution_count": 165,
   "metadata": {},
   "outputs": [
    {
     "name": "stdout",
     "output_type": "stream",
     "text": [
      "['bmw', 'audi', 'toyota', 'subaru']\n",
      "['subaru', 'toyota', 'audi', 'bmw']\n"
     ]
    }
   ],
   "source": [
    "cars = ['bmw', 'audi', 'toyota', 'subaru']\n",
    "\n",
    "print(cars)\n",
    "# print(cars.reverse())\n",
    "cars.reverse() # permanently reverses the order of the list\n",
    "print(cars)"
   ]
  },
  {
   "cell_type": "code",
   "execution_count": 166,
   "metadata": {},
   "outputs": [
    {
     "data": {
      "text/plain": [
       "4"
      ]
     },
     "execution_count": 166,
     "metadata": {},
     "output_type": "execute_result"
    }
   ],
   "source": [
    "cars = ['bmw', 'audi', 'toyota', 'subaru']\n",
    "len(cars) # length of a list"
   ]
  },
  {
   "cell_type": "code",
   "execution_count": 182,
   "metadata": {},
   "outputs": [
    {
     "name": "stdout",
     "output_type": "stream",
     "text": [
      "['turkey', 'saudia arabia', 'usa', 'uk', 'japan']\n",
      "['japan', 'saudia arabia', 'turkey', 'uk', 'usa']\n",
      "['turkey', 'saudia arabia', 'usa', 'uk', 'japan']\n",
      "['usa', 'uk', 'turkey', 'saudia arabia', 'japan']\n",
      "['japan', 'uk', 'usa', 'saudia arabia', 'turkey']\n",
      "['turkey', 'saudia arabia', 'usa', 'uk', 'japan']\n",
      "['japan', 'saudia arabia', 'turkey', 'uk', 'usa']\n",
      "['usa', 'uk', 'turkey', 'saudia arabia', 'japan']\n",
      "5\n"
     ]
    }
   ],
   "source": [
    "dream_places = [\"turkey\", \"saudia arabia\", \"usa\", \"uk\", \"japan\"]\n",
    "print(dream_places)\n",
    "\n",
    "print(sorted(dream_places))\n",
    "\n",
    "print(dream_places)\n",
    "\n",
    "print(sorted(dream_places, reverse=True))\n",
    "\n",
    "dream_places.reverse()\n",
    "print(dream_places)\n",
    "\n",
    "dream_places.reverse()\n",
    "print(dream_places)\n",
    "\n",
    "dream_places.sort()\n",
    "print(dream_places)\n",
    "\n",
    "dream_places.sort(reverse=True)\n",
    "print(dream_places)\n",
    "\n",
    "print(len(dream_places))"
   ]
  },
  {
   "cell_type": "markdown",
   "metadata": {},
   "source": [
    "# Working with Lists"
   ]
  },
  {
   "cell_type": "code",
   "execution_count": 200,
   "metadata": {},
   "outputs": [
    {
     "name": "stdout",
     "output_type": "stream",
     "text": [
      "harry\n",
      "Hey Magician Harry, You've got a prize.\n",
      "\n",
      "Hello\n",
      "ronald\n",
      "Hey Magician Ronald, You've got a prize.\n",
      "\n",
      "Hello\n",
      "hermoine\n",
      "Hey Magician Hermoine, You've got a prize.\n",
      "\n",
      "Hello\n"
     ]
    }
   ],
   "source": [
    "magicians = ['harry', 'ronald', 'hermoine']\n",
    "for magician in magicians:\n",
    "    print(magician)\n",
    "    print(f\"Hey Magician {magician.title()}, You've got a prize.\\n\")\n",
    "\n",
    "    print(\"Hello\")\n",
    "\n",
    "    # indentation is crucial in python"
   ]
  },
  {
   "cell_type": "code",
   "execution_count": 210,
   "metadata": {},
   "outputs": [
    {
     "name": "stdout",
     "output_type": "stream",
     "text": [
      "I like tikka pizza.\n",
      "I like fajita pizza.\n",
      "I like pepperoni pizza.\n",
      "\n",
      "I really love pizza!\n",
      "\n",
      "A dog would make a great pet.\n",
      "A cat would make a great pet.\n",
      "A fish would make a great pet.\n",
      "Any of these animals would make a great pet!\n"
     ]
    }
   ],
   "source": [
    "pizzas = ['tikka', 'fajita', 'pepperoni']\n",
    "for pizza in pizzas:\n",
    "    print(f\"I like {pizza} pizza.\")\n",
    "print(\"\\nI really love pizza!\\n\")\n",
    "\n",
    "animals = ['dog', 'cat', 'fish']\n",
    "for animal in animals:\n",
    "    print(f\"A {animal} would make a great pet.\")\n",
    "print(\"Any of these animals would make a great pet!\")"
   ]
  },
  {
   "cell_type": "markdown",
   "metadata": {},
   "source": [
    "# Numerical Lists"
   ]
  },
  {
   "cell_type": "code",
   "execution_count": 211,
   "metadata": {},
   "outputs": [
    {
     "name": "stdout",
     "output_type": "stream",
     "text": [
      "1\n",
      "2\n",
      "3\n",
      "4\n"
     ]
    }
   ],
   "source": [
    "for i in range(1, 5):\n",
    "    print(i)"
   ]
  },
  {
   "cell_type": "code",
   "execution_count": 212,
   "metadata": {},
   "outputs": [
    {
     "name": "stdout",
     "output_type": "stream",
     "text": [
      "0\n",
      "1\n",
      "2\n",
      "3\n",
      "4\n",
      "5\n"
     ]
    }
   ],
   "source": [
    "for i in range(6):\n",
    "    print(i)"
   ]
  },
  {
   "cell_type": "code",
   "execution_count": 7,
   "metadata": {},
   "outputs": [
    {
     "name": "stdout",
     "output_type": "stream",
     "text": [
      "odd numbers: [1, 3, 5, 7, 9]\n",
      "even numbers: [2, 4, 6, 8, 10]\n"
     ]
    }
   ],
   "source": [
    "odd = list(range(1,10,2))\n",
    "print(f\"odd numbers: {odd}\")\n",
    "even = list(range(2,11,2))\n",
    "print(f\"even numbers: {even}\")"
   ]
  },
  {
   "cell_type": "code",
   "execution_count": 8,
   "metadata": {},
   "outputs": [
    {
     "name": "stdout",
     "output_type": "stream",
     "text": [
      "[1, 4, 9, 16, 25, 36, 49, 64, 81, 100]\n"
     ]
    }
   ],
   "source": [
    "squares = []\n",
    "for i in range(1,11):\n",
    "    squares.append(i**2)\n",
    "print(squares)"
   ]
  },
  {
   "cell_type": "code",
   "execution_count": 13,
   "metadata": {},
   "outputs": [
    {
     "name": "stdout",
     "output_type": "stream",
     "text": [
      "[1, 2, 3, 4, 5, 6, 7, 8, 9, 10]\n",
      "1\n",
      "10\n",
      "55\n"
     ]
    }
   ],
   "source": [
    "numbers = list(range(1,11))\n",
    "print(numbers)\n",
    "\n",
    "print(min(numbers))\n",
    "\n",
    "print(max(numbers))\n",
    "\n",
    "print(sum(numbers))\n"
   ]
  },
  {
   "cell_type": "code",
   "execution_count": 14,
   "metadata": {},
   "outputs": [
    {
     "name": "stdout",
     "output_type": "stream",
     "text": [
      "[1, 4, 9, 16, 25, 36, 49, 64, 81, 100]\n"
     ]
    }
   ],
   "source": [
    "# List comprehension\n",
    "\n",
    "squares = [value**2 for value in range(1,11)]\n",
    "print(squares)"
   ]
  },
  {
   "cell_type": "code",
   "execution_count": 44,
   "metadata": {},
   "outputs": [
    {
     "name": "stdout",
     "output_type": "stream",
     "text": [
      "[1, 8, 27, 64, 125, 216, 343, 512, 729, 1000]\n"
     ]
    }
   ],
   "source": [
    "numbers = list(range(1,1000001))\n",
    "# print(sum(numbers))\n",
    "\n",
    "multiples_of_three = [value * 3 for value in range(1,11)]\n",
    "# print(multiples_of_three)\n",
    "\n",
    "cubes = [value ** 3 for value in range(1,11)]\n",
    "print(cubes)"
   ]
  },
  {
   "cell_type": "code",
   "execution_count": 58,
   "metadata": {},
   "outputs": [
    {
     "name": "stdout",
     "output_type": "stream",
     "text": [
      "[1, 2, 3, 4, 5]\n",
      "[3, 4]\n",
      "[1, 2, 3, 4, 5, 6, 7]\n",
      "[5, 6, 7, 8, 9, 10]\n",
      "[7, 8, 9, 10]\n",
      "[1, 2, 3, 4, 5, 6]\n",
      "[1, 3, 5, 7]\n"
     ]
    }
   ],
   "source": [
    "numbers = list(range(1,11))\n",
    "print(numbers[0:5]) # slicing a list\n",
    "print(numbers[2:4])\n",
    "print(numbers[:7])\n",
    "print(numbers[4:])\n",
    "print(numbers[-4:])\n",
    "print(numbers[:-4])\n",
    "print(numbers[0:7:2]) # number 2 is to skip 2 nuumbers "
   ]
  },
  {
   "cell_type": "code",
   "execution_count": 61,
   "metadata": {},
   "outputs": [
    {
     "name": "stdout",
     "output_type": "stream",
     "text": [
      "michael\n",
      "florence\n",
      "eli\n"
     ]
    }
   ],
   "source": [
    "players = ['charles', 'martina', 'michael', 'florence', 'eli']\n",
    "for i in players[2:]:\n",
    "    print(i)"
   ]
  },
  {
   "cell_type": "code",
   "execution_count": 71,
   "metadata": {},
   "outputs": [
    {
     "name": "stdout",
     "output_type": "stream",
     "text": [
      "My favorite foods are:\n",
      "['pizza', 'falafel', 'carrot cake', 'cannoli']\n",
      "\n",
      "My friend's favorite foods are:\n",
      "['pizza', 'falafel', 'biryani', 'ice cream']\n",
      "['pizza', 'falafel', 'carrot cake', 'cannoli']\n"
     ]
    }
   ],
   "source": [
    "my_foods = ['pizza', 'falafel', 'carrot cake']\n",
    "friend_foods = my_foods[:] # copying list to a new list, changing any elemnt in any list will not have any effect in the other\n",
    "\n",
    "my_foods.append('cannoli')\n",
    "friend_foods.append('ice cream') \n",
    "\n",
    "print(\"My favorite foods are:\")\n",
    "print(my_foods)\n",
    "\n",
    "friend_foods[2] = 'biryani'\n",
    "print(\"\\nMy friend's favorite foods are:\")\n",
    "print(friend_foods)\n",
    "print(my_foods)"
   ]
  },
  {
   "cell_type": "code",
   "execution_count": 70,
   "metadata": {},
   "outputs": [
    {
     "name": "stdout",
     "output_type": "stream",
     "text": [
      "My favorite foods are:\n",
      "['pizza', 'falafel', 'carrot cake', 'cannoli', 'ice cream']\n",
      "\n",
      "My friend's favorite foods are:\n",
      "['pizza', 'falafel', 'carrot cake', 'cannoli', 'ice cream']\n"
     ]
    }
   ],
   "source": [
    "my_foods = ['pizza', 'falafel', 'carrot cake']\n",
    "friend_foods = my_foods # dynamically copying list to a new list, changing any element in any list will have effect in the other list\n",
    "\n",
    "my_foods.append('cannoli')\n",
    "friend_foods.append('ice cream')\n",
    "\n",
    "print(\"My favorite foods are:\")\n",
    "print(my_foods)\n",
    "\n",
    "print(\"\\nMy friend's favorite foods are:\")\n",
    "print(friend_foods)\n"
   ]
  },
  {
   "cell_type": "code",
   "execution_count": 81,
   "metadata": {},
   "outputs": [
    {
     "name": "stdout",
     "output_type": "stream",
     "text": [
      "The first three magicians in the list are []\n",
      "The three magicians in the middle of the list are ['hermoine', 'ronald']\n",
      "The last three magicians in the the list are ['harry', 'hermoine', 'ronald']\n"
     ]
    }
   ],
   "source": [
    "magicians = [\"harry\", \"hermoine\", \"ronald\"]\n",
    "print(f\"The first three magicians in the list are {magicians[3:]}\")\n",
    "print(f\"The three magicians in the middle of the list are {magicians[len(magicians)//2:]}\")\n",
    "print(f\"The last three magicians in the the list are {magicians[:3]}\")"
   ]
  },
  {
   "cell_type": "markdown",
   "metadata": {},
   "source": [
    "# Tuple: An Immutable List"
   ]
  },
  {
   "cell_type": "code",
   "execution_count": 103,
   "metadata": {},
   "outputs": [
    {
     "name": "stdout",
     "output_type": "stream",
     "text": [
      "('Saad', 'Butt')\n",
      "Saad\n",
      "Butt\n",
      "1\n",
      "Saad\n",
      "Butt\n",
      "Khan\n",
      "A\n",
      "Saad a\n"
     ]
    }
   ],
   "source": [
    "myFullName = (\"Saad\", \"Butt\")\n",
    "print(myFullName)\n",
    "print(myFullName[0])\n",
    "print(myFullName[1])\n",
    "# myFullName[1] = \"Jutt\" # not possible as tuples are immutable and can't be changed onece initialized\n",
    "aa = (1) \n",
    "print(aa)\n",
    "for i in myFullName:\n",
    "    print(i)\n",
    "\n",
    "myFullName = ('Usman',\"Khan\") # we cannot change the value of any individual element of a tuple. However, we can reassign the entire tuple\n",
    "print(myFullName[1])\n",
    "\n",
    "myFullName=(\"Ali\") # if we have assigned a string and only this element to a tuple then the value is now a string here and if we will try to print first elemnt it will print first character only\n",
    "print(myFullName[0])\n",
    "\n",
    "b = \"Saad\"\n",
    "print(b, b[2])"
   ]
  },
  {
   "cell_type": "code",
   "execution_count": 106,
   "metadata": {},
   "outputs": [
    {
     "name": "stdout",
     "output_type": "stream",
     "text": [
      "biryani\n",
      "qorma\n",
      "karahi\n",
      "kheer\n",
      "salad\n",
      "biryani\n",
      "qorma\n",
      "beef pulao\n",
      "custard\n",
      "salad\n"
     ]
    }
   ],
   "source": [
    "buffetMenu = (\"biryani\", \"qorma\", \"karahi\", \"kheer\", \"salad\")\n",
    "for menuItem in buffetMenu:\n",
    "    print(menuItem)\n",
    "# buffetMenu[2] = \"anything\"\n",
    "buffetMenu = (\"biryani\", \"qorma\", \"beef pulao\", \"custard\", \"salad\")\n",
    "for menuItem in buffetMenu:\n",
    "    print(menuItem)"
   ]
  },
  {
   "cell_type": "markdown",
   "metadata": {},
   "source": [
    "# Conditional Statements"
   ]
  },
  {
   "cell_type": "code",
   "execution_count": 135,
   "metadata": {},
   "outputs": [
    {
     "name": "stdout",
     "output_type": "stream",
     "text": [
      "2\n"
     ]
    },
    {
     "data": {
      "text/plain": [
       "True"
      ]
     },
     "execution_count": 135,
     "metadata": {},
     "output_type": "execute_result"
    }
   ],
   "source": [
    "car = 'audi'.capitalize()\n",
    "car != 'audi'\n",
    "a = 2\n",
    "# a == \"1\"\n",
    "if a != 1:\n",
    "    print(a)\n",
    "\n",
    "n = 11\n",
    "n <= 10\n",
    "\n",
    "a == 1 or n > 10\n",
    "a != 1 and n > 10\n",
    "\n",
    "\"salad\" in buffetMenu # checking whether a value is in a list or not\n",
    "\"salad \" not in buffetMenu # checking whether a value is not in a list"
   ]
  },
  {
   "cell_type": "code",
   "execution_count": 136,
   "metadata": {},
   "outputs": [
    {
     "name": "stdout",
     "output_type": "stream",
     "text": [
      "Is car == 'subaru'? I predict True.\n",
      "True\n",
      "\n",
      "Is car == 'audi'? I predict False.\n",
      "False\n"
     ]
    }
   ],
   "source": [
    "car = 'subaru'\n",
    "print(\"Is car == 'subaru'? I predict True.\")\n",
    "print(car == 'subaru')\n",
    "print(\"\\nIs car == 'audi'? I predict False.\")\n",
    "print(car == 'audi')"
   ]
  },
  {
   "cell_type": "code",
   "execution_count": 145,
   "metadata": {},
   "outputs": [
    {
     "name": "stdout",
     "output_type": "stream",
     "text": [
      "You just earned 15 points.\n"
     ]
    }
   ],
   "source": [
    "alien_color = \"red\"\n",
    "\n",
    "if \"green\" == alien_color:\n",
    "    print(\"You just earned 5 points.\")\n",
    "elif \"yellow\" == alien_color:\n",
    "    print(\"You just earned 10 points.\")\n",
    "elif \"red\" == alien_color:\n",
    "    print(\"You just earned 15 points.\")"
   ]
  },
  {
   "cell_type": "code",
   "execution_count": 146,
   "metadata": {},
   "outputs": [
    {
     "name": "stdout",
     "output_type": "stream",
     "text": [
      "You are an adult.\n"
     ]
    }
   ],
   "source": [
    "age = 21\n",
    "\n",
    "if age < 2:\n",
    "    print(\"You are a baby.\")\n",
    "elif age >= 2 and age < 4:\n",
    "    print(\"You are a toddler.\")\n",
    "elif age >= 4 and age < 13:\n",
    "    print(\"You are a kid.\")\n",
    "elif age >= 13 and age < 20:\n",
    "    print(\"You are a teenager.\")\n",
    "elif age >= 20 and age < 65:\n",
    "    print(\"You are an adult.\")\n",
    "elif age >= 65:\n",
    "    print(\"You are old.\")"
   ]
  },
  {
   "cell_type": "code",
   "execution_count": 150,
   "metadata": {},
   "outputs": [
    {
     "name": "stdout",
     "output_type": "stream",
     "text": [
      "You really like bananas\n",
      "You really like mangoes\n"
     ]
    }
   ],
   "source": [
    "favouriteFruits = [\"mango\", \"banana\", \"apple\", \"grapes\"]\n",
    "\n",
    "if \"banana\" in favouriteFruits:\n",
    "    print(f\"You really like bananas\") \n",
    "if \"mango\" in favouriteFruits:\n",
    "    print(f\"You really like mangoes\") \n",
    "if \"peach\" in favouriteFruits:\n",
    "    print(f\"You really like peaches\") \n",
    "if \"ananas\" in favouriteFruits:\n",
    "    print(f\"You really like ananas\") \n",
    "if \"woh\" in favouriteFruits:\n",
    "    print(f\"You really like woh\") "
   ]
  },
  {
   "cell_type": "code",
   "execution_count": 156,
   "metadata": {},
   "outputs": [
    {
     "name": "stdout",
     "output_type": "stream",
     "text": [
      "Hello admin, would you like to see a status report?\n",
      "Hello saad, welcome!\n",
      "Hello usman, welcome!\n",
      "Hello saud, welcome!\n",
      "Hello anas, welcome!\n"
     ]
    }
   ],
   "source": [
    "usernames = [\"admin\", \"saad\", \"usman\", \"saud\", \"anas\"]\n",
    "\n",
    "if usernames:\n",
    "    for user in usernames:\n",
    "        if user == \"admin\":\n",
    "            print(f\"Hello {user}, would you like to see a status report?\")\n",
    "        else:\n",
    "            print(f\"Hello {user}, welcome!\")\n",
    "else:\n",
    "    print(\"We need to find some users!\")"
   ]
  },
  {
   "cell_type": "code",
   "execution_count": 165,
   "metadata": {},
   "outputs": [
    {
     "name": "stdout",
     "output_type": "stream",
     "text": [
      "This username is available.\n",
      "Sorry, but you have to enter a new username.\n",
      "This username is available.\n",
      "Sorry, but you have to enter a new username.\n",
      "This username is available.\n"
     ]
    }
   ],
   "source": [
    "current_users = [\"saad\",\"usman\",\"saud\", \"anas\",\"rahim\"]\n",
    "new_users = [\"rehman\", \"UsMaN\", \"owais\", \"ANAS\", \"raheel\"]\n",
    "\n",
    "for new_user in new_users:\n",
    "    if new_user.lower() in current_users:\n",
    "        print(\"Sorry, but you have to enter a new username.\")\n",
    "    else:\n",
    "        print(\"This username is available.\")"
   ]
  },
  {
   "cell_type": "code",
   "execution_count": 168,
   "metadata": {},
   "outputs": [
    {
     "name": "stdout",
     "output_type": "stream",
     "text": [
      "1st\n",
      "2nd\n",
      "3rd\n",
      "4th\n",
      "5th\n",
      "6th\n",
      "7th\n",
      "8th\n",
      "9th\n"
     ]
    }
   ],
   "source": [
    "numbers = list(range(1,10))\n",
    "for i in numbers:\n",
    "    if 1 == i:\n",
    "        print(f\"{i}st\")\n",
    "    elif 2 == i:\n",
    "        print(f\"{i}nd\")\n",
    "    elif 3 == i:\n",
    "        print(f\"{i}rd\")\n",
    "    else:\n",
    "        print(f\"{i}th\")"
   ]
  },
  {
   "cell_type": "markdown",
   "metadata": {},
   "source": [
    "# Dictionaries"
   ]
  },
  {
   "cell_type": "code",
   "execution_count": 187,
   "metadata": {},
   "outputs": [
    {
     "name": "stdout",
     "output_type": "stream",
     "text": [
      "saad\n",
      "{'name': 'saad', 'age': '21'}\n",
      "{'name': 'saad', 'age': '21', 'eductaion': 'bs', 'status': 'alive'}\n",
      "{'name': 'usman', 'age': '21', 'eductaion': 'bs', 'status': 'alive'}\n",
      "{'name': 'usman', 'age': '21', 'eductaion': 'bs'}\n",
      "No value\n"
     ]
    }
   ],
   "source": [
    "person = {\"name\": \"saad\", \"age\": \"21\"}\n",
    "print(person[\"name\"])\n",
    "print(person)\n",
    "\n",
    "person[\"eductaion\"] = \"bs\"\n",
    "person[\"status\"] = \"alive\"\n",
    "print(person)\n",
    "\n",
    "person[\"name\"] = \"usman\"\n",
    "\n",
    "print(person)\n",
    "\n",
    "del person[\"status\"]\n",
    "print(person)\n",
    "\n",
    "print(person.get(\"height\", \"No value\")) # get method is used when the required value might not exist in the dictionary, it takes up the key and a default value as arguments (default value is optional).\n"
   ]
  },
  {
   "cell_type": "code",
   "execution_count": 201,
   "metadata": {},
   "outputs": [
    {
     "name": "stdout",
     "output_type": "stream",
     "text": [
      "{'firstName': 'Saad', 'lastName': 'Butt', 'city': 'karachi'}\n",
      "Saad's favourit number is 27\n"
     ]
    }
   ],
   "source": [
    "person = {\n",
    "    \"firstName\": \"Saad\",\n",
    "    \"lastName\" : \"Butt\",\n",
    "    \"city\": \"karachi\"\n",
    "}\n",
    "print(person)\n",
    "\n",
    "favouriteNumbers = {\n",
    "    \"saad\": \"27\",\n",
    "    \"usman\": \"13\",\n",
    "    \"saud\": 12,\n",
    "    \"anas\": 2,\n",
    "    \"rahim\": 3\n",
    "}\n",
    "print(f\"Saad's favourit number is {favouriteNumbers['saad']}\")\n"
   ]
  },
  {
   "cell_type": "code",
   "execution_count": 228,
   "metadata": {},
   "outputs": [
    {
     "name": "stdout",
     "output_type": "stream",
     "text": [
      "['boolean', 'list', 'variable']\n",
      "Boolean\n",
      "List\n",
      "Variable\n",
      "['a variable containing multiple values', 'conatiner of some data', 'true or false values']\n",
      "A Variable Containing Multiple Values\n",
      "Conatiner Of Some Data\n",
      "True Or False Values\n",
      "{'a', 'b'}\n",
      "Variable\n",
      "conatiner of some data\n",
      "List\n",
      "a variable containing multiple values\n",
      "Boolean\n",
      "true or false values\n",
      "Loop\n",
      "a control flow structure that allows for repetitive execution of code\n"
     ]
    }
   ],
   "source": [
    "\n",
    "glossary = {\n",
    "    \"variable\" : \"conatiner of some data\",\n",
    "    \"list\" : \"a variable containing multiple values\",\n",
    "    \"boolean\" : \"true or false values\" \n",
    "}\n",
    "\n",
    "# print(f\"Variable\\n\\t{glossary['variable']}\")\n",
    "# print(f\"List\\n\\t{glossary['list']}\")\n",
    "# print(f\"Boolean\\n\\t{glossary['boolean']}\")\n",
    "\n",
    "# for key, value in glossary.items():\n",
    "#     print(f\"{key.title()}\\n{value}\")\n",
    "\n",
    "# print(glossary.items())\n",
    "\n",
    "print(sorted(glossary.keys()))\n",
    "\n",
    "for key in sorted(glossary.keys()):\n",
    "    print(f\"{key.title()}\")\n",
    "\n",
    "# by default dictionary returns the key-values in the ame order as they were inserted, however, you can sort them using sorted()\n",
    "\n",
    "print(sorted(glossary.values()))\n",
    "\n",
    "# for key in sorted(glossary.values()):\n",
    "    # print(f\"{key.title()}\")\n",
    "\n",
    "glossary[\"loop\"] = \"true or false values\"\n",
    "for key in set(glossary.values()): # set function will get all the unique values\n",
    "    print(f\"{key.title()}\")\n",
    "\n",
    "# dict = {\n",
    "#     \"a\" : \"b\",\n",
    "#     \"a\" : \"c\"\n",
    "# }\n",
    "\n",
    "\n",
    "# print(dict.values())\n",
    "\n",
    "mySet = {\"a\", \"b\", \"a\"} # this is a set and it will have only unique values\n",
    "print(mySet)\n",
    "\n",
    "glossary[\"loop\"] = \"a control flow structure that allows for repetitive execution of code\"\n",
    "\n",
    "for key, value in glossary.items():\n",
    "    print(f\"{key.title()}\\n{value}\")\n"
   ]
  },
  {
   "cell_type": "code",
   "execution_count": 232,
   "metadata": {},
   "outputs": [
    {
     "name": "stdout",
     "output_type": "stream",
     "text": [
      "The Nile runs through Egypt\n",
      "The Indus runs through Pakistan\n",
      "The Amazon runs through America\n",
      "The Congo runs through Africa\n",
      "River Nile\n",
      "River Indus\n",
      "River Amazon\n",
      "River Congo\n",
      "Egypt\n",
      "Pakistan\n",
      "America\n",
      "Africa\n"
     ]
    }
   ],
   "source": [
    "rivers = {\n",
    "    \"nile\": \"egypt\",\n",
    "    \"indus\": \"pakistan\",\n",
    "    \"amazon\": \"america\",\n",
    "    \"congo\": \"africa\"\n",
    "}\n",
    "\n",
    "for river, country in rivers.items():\n",
    "    print(f\"The {river.title()} runs through {country.title()}\")\n",
    "\n",
    "for river in rivers.keys():\n",
    "    print(f\"River {river.title()}\")\n",
    "\n",
    "for  country in rivers.values():\n",
    "    print(f\"{country.title()}\")"
   ]
  },
  {
   "cell_type": "code",
   "execution_count": 237,
   "metadata": {},
   "outputs": [
    {
     "name": "stdout",
     "output_type": "stream",
     "text": [
      "Thanks Ceren, for taking the poll.\n",
      "Thanks Eda, for taking the poll.\n",
      "Hello Serkan, please take the poll!\n",
      "Hello Engin, please take the poll!\n"
     ]
    }
   ],
   "source": [
    "polling = {\n",
    "    \"ceren\" : \"python\",\n",
    "    \"eda\" : \"javascript\",\n",
    "    \"melek\" : \"c\",\n",
    "    \"fifi\" : \"java\" \n",
    "}\n",
    "\n",
    "persons = [\"ceren\", \"eda\", \"serkan\", \"engin\"]\n",
    "for person in persons:\n",
    "    if person in polling.keys():\n",
    "        print(f\"Thanks {person.title()}, for taking the poll.\")\n",
    "    else:\n",
    "        print(f\"Hello {person.title()}, please take the poll!\")"
   ]
  },
  {
   "cell_type": "markdown",
   "metadata": {},
   "source": [
    "## Nesting"
   ]
  },
  {
   "cell_type": "code",
   "execution_count": 242,
   "metadata": {},
   "outputs": [
    {
     "name": "stdout",
     "output_type": "stream",
     "text": [
      "{'name': 'saad', 'age': '21'}\n",
      "{'name': 'usman', 'age': '22'}\n",
      "{'name': 'saud', 'age': '20'}\n",
      "{'name': 'rahim', 'age': '24'}\n"
     ]
    }
   ],
   "source": [
    "# A list of dictionaries\n",
    "person1 = {\n",
    "    \"name\": \"saad\",\n",
    "    \"age\": \"21\"\n",
    "}\n",
    "person2 = {\n",
    "    \"name\": \"usman\",\n",
    "    \"age\": \"22\"\n",
    "}\n",
    "person3 = {\n",
    "    \"name\": \"saud\",\n",
    "    \"age\": \"20\"\n",
    "}\n",
    "person4 = {\n",
    "    \"name\": \"rahim\",\n",
    "    \"age\": \"24\"\n",
    "}\n",
    "\n",
    "persons = [person1, person2, person3, person4]\n",
    "\n",
    "for person in persons:\n",
    "    print(person)"
   ]
  },
  {
   "cell_type": "code",
   "execution_count": 243,
   "metadata": {},
   "outputs": [
    {
     "name": "stdout",
     "output_type": "stream",
     "text": [
      "{'name': 'saad', 'education': ['matric', 'intermediate', 'bachelors']}\n"
     ]
    }
   ],
   "source": [
    "# list in a dictionary\n",
    "person = {\n",
    "    \"name\": \"saad\",\n",
    "    \"education\": [\"matric\", \"intermediate\", \"bachelors\"]\n",
    "}\n",
    "\n",
    "print(person)"
   ]
  },
  {
   "cell_type": "code",
   "execution_count": 245,
   "metadata": {},
   "outputs": [
    {
     "name": "stdout",
     "output_type": "stream",
     "text": [
      "\n",
      "Username: aeinstein\n",
      "\tFull name: Albert Einstein\n",
      "\tLocation: Princeton\n",
      "\n",
      "Username: mcurie\n",
      "\tFull name: Marie Curie\n",
      "\tLocation: Paris\n"
     ]
    }
   ],
   "source": [
    "# dictionary in dictionary\n",
    "\n",
    "users = {\n",
    " 'aeinstein': {\n",
    " 'first': 'albert',\n",
    " 'last': 'einstein',\n",
    " 'location': 'princeton',\n",
    " },\n",
    " 'mcurie': {\n",
    " 'first': 'marie',\n",
    " 'last': 'curie',\n",
    " 'location': 'paris',\n",
    " },\n",
    " }\n",
    "for username, user_info in users.items():\n",
    "   print(f\"\\nUsername: {username}\")\n",
    "   full_name = f\"{user_info['first']} {user_info['last']}\"\n",
    "   location = user_info['location']\n",
    "   print(f\"\\tFull name: {full_name.title()}\")\n",
    "   print(f\"\\tLocation: {location.title()}\")"
   ]
  },
  {
   "cell_type": "code",
   "execution_count": 253,
   "metadata": {},
   "outputs": [
    {
     "name": "stdout",
     "output_type": "stream",
     "text": [
      "{'name': 'saad', 'age': '21'}\n",
      "{'name': 'usman', 'age': '22'}\n",
      "{'name': 'saud', 'age': '20'}\n"
     ]
    }
   ],
   "source": [
    "people = [person1, person2, person3]\n",
    "\n",
    "for person in people:\n",
    "    print(person)"
   ]
  },
  {
   "cell_type": "code",
   "execution_count": 256,
   "metadata": {},
   "outputs": [
    {
     "name": "stdout",
     "output_type": "stream",
     "text": [
      "Saad Turkey\n",
      "Usman Japan\n",
      "Anas Scandanavia\n"
     ]
    }
   ],
   "source": [
    "favouritePlaces = {\n",
    "    \"saad\" : \"turkey\",\n",
    "    \"usman\" : \"japan\",\n",
    "    \"anas\" : \"scandanavia\"\n",
    "}\n",
    "\n",
    "for key, value in favouritePlaces.items():\n",
    "    print(f\"{key.title()} {value.title()}\")"
   ]
  },
  {
   "cell_type": "code",
   "execution_count": 261,
   "metadata": {},
   "outputs": [
    {
     "name": "stdout",
     "output_type": "stream",
     "text": [
      "Saad's favourit number is [27, 13, 5]\n",
      "Saad has favourite numbers: [27, 13, 5]\n",
      "Usman has favourite numbers: [12, 100, 5]\n",
      "Saud has favourite numbers: [27, 15, 0]\n",
      "Anas has favourite numbers: [27, 111, 5]\n",
      "Rahim has favourite numbers: [3]\n"
     ]
    }
   ],
   "source": [
    "favouriteNumbers = {\n",
    "    \"saad\": [27,13,5],\n",
    "    \"usman\": [12,100,5],\n",
    "    \"saud\": [27,15,0],\n",
    "    \"anas\": [27,111,5],\n",
    "    \"rahim\": [3]\n",
    "}\n",
    "print(f\"Saad's favourit number is {favouriteNumbers['saad']}\")\n",
    "\n",
    "for key, value in favouriteNumbers.items():\n",
    "    print(f\"{key.title()} has favourite numbers: {value}\")"
   ]
  },
  {
   "cell_type": "code",
   "execution_count": 266,
   "metadata": {},
   "outputs": [
    {
     "name": "stdout",
     "output_type": "stream",
     "text": [
      "City: Karachi\n",
      "\tCountry: Pakistan\n",
      "\tPopulation: 14.91 Million\n",
      "\tFact: City Of Lights\n",
      "City: Lahore\n",
      "\tCountry: Pakistan\n",
      "\tPopulation: 11.13 Million\n",
      "\tFact: City Of Gardens\n",
      "City: Islamabad\n",
      "\tCountry: Pakistan\n",
      "\tPopulation: 1.015 Million\n",
      "\tFact: Capital City\n"
     ]
    }
   ],
   "source": [
    "cities = {\n",
    "    \"karachi\": {\n",
    "        \"country\":\"pakistan\",\n",
    "        \"population\": \"14.91 million\",\n",
    "        \"fact\": \"city of lights\"\n",
    "    },\n",
    "    \"lahore\": {\n",
    "        \"country\":\"pakistan\",\n",
    "        \"population\": \"11.13 million\",\n",
    "        \"fact\": \"city of gardens\"\n",
    "    },\n",
    "    \"islamabad\": {\n",
    "        \"country\":\"pakistan\",\n",
    "        \"population\": \"1.015 million\",\n",
    "        \"fact\": \"capital city\"\n",
    "    }\n",
    "}\n",
    "\n",
    "for city, info in cities.items():\n",
    "    print(f\"City: {city.title()}\")\n",
    "    for key, value in info.items():\n",
    "        print(f\"\\t{key.title()}: {value.title()}\")"
   ]
  },
  {
   "cell_type": "code",
   "execution_count": null,
   "metadata": {},
   "outputs": [],
   "source": [
    "def make_pizza(size, *toppings):\n",
    "    \"\"\"Summarize the pizza we are about to make.\"\"\"\n",
    "    print(f\"\\nMaking a {size}-inch pizza with the following toppings:\")\n",
    "    for topping in toppings:\n",
    "        print(f\"- {topping}\")"
   ]
  }
 ],
 "metadata": {
  "kernelspec": {
   "display_name": "base",
   "language": "python",
   "name": "python3"
  },
  "language_info": {
   "codemirror_mode": {
    "name": "ipython",
    "version": 3
   },
   "file_extension": ".py",
   "mimetype": "text/x-python",
   "name": "python",
   "nbconvert_exporter": "python",
   "pygments_lexer": "ipython3",
   "version": "3.11.4"
  },
  "orig_nbformat": 4
 },
 "nbformat": 4,
 "nbformat_minor": 2
}
